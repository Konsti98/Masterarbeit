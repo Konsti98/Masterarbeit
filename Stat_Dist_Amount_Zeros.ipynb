{
 "cells": [
  {
   "cell_type": "code",
   "execution_count": 32,
   "id": "06da679a",
   "metadata": {},
   "outputs": [],
   "source": [
    "import numpy as np\n",
    "from scipy.stats import norm\n",
    "import scipy\n",
    "import matplotlib.pyplot as plt"
   ]
  },
  {
   "cell_type": "code",
   "execution_count": 135,
   "id": "45a888dd",
   "metadata": {},
   "outputs": [],
   "source": [
    "N=1000"
   ]
  },
  {
   "cell_type": "code",
   "execution_count": 6,
   "id": "179b2a91",
   "metadata": {},
   "outputs": [],
   "source": [
    "def transition_prob(i,j,N):\n",
    "    if j == i+1:\n",
    "        return ((N-i)*(N-i-1)*(N-i-2))/((N)*(N-1)*(N-2))\n",
    "    if j == i-1:\n",
    "        return ((N-i)*(i)*(i-1))/((N)*(N-1)*(N-2))\n",
    "    if j == i:\n",
    "        return i/N + (2*(N-i)*(i)*(N-i-1))/((N)*(N-1)*(N-2))\n",
    "    else:\n",
    "        return 0"
   ]
  },
  {
   "cell_type": "code",
   "execution_count": 136,
   "id": "7f58c440",
   "metadata": {},
   "outputs": [],
   "source": [
    "M = np.array([[transition_prob(i,j,N) for j in range(1,N-1)] for i in range(1, N-1)])"
   ]
  },
  {
   "cell_type": "code",
   "execution_count": 93,
   "id": "266f26ff",
   "metadata": {},
   "outputs": [
    {
     "data": {
      "text/plain": [
       "array([[3.00000000e-02, 9.70000000e-01, 0.00000000e+00, ...,\n",
       "        0.00000000e+00, 0.00000000e+00, 0.00000000e+00],\n",
       "       [2.02020202e-04, 5.91919192e-02, 9.40606061e-01, ...,\n",
       "        0.00000000e+00, 0.00000000e+00, 0.00000000e+00],\n",
       "       [0.00000000e+00, 5.99876314e-04, 8.75881262e-02, ...,\n",
       "        0.00000000e+00, 0.00000000e+00, 0.00000000e+00],\n",
       "       ...,\n",
       "       [0.00000000e+00, 0.00000000e+00, 0.00000000e+00, ...,\n",
       "        9.62374768e-01, 2.47371676e-05, 0.00000000e+00],\n",
       "       [0.00000000e+00, 0.00000000e+00, 0.00000000e+00, ...,\n",
       "        2.87940631e-02, 9.71199753e-01, 6.18429190e-06],\n",
       "       [0.00000000e+00, 0.00000000e+00, 0.00000000e+00, ...,\n",
       "        0.00000000e+00, 1.95959596e-02, 9.80404040e-01]])"
      ]
     },
     "execution_count": 93,
     "metadata": {},
     "output_type": "execute_result"
    }
   ],
   "source": [
    "M"
   ]
  },
  {
   "cell_type": "code",
   "execution_count": null,
   "id": "de73c034",
   "metadata": {},
   "outputs": [],
   "source": []
  },
  {
   "cell_type": "code",
   "execution_count": 18,
   "id": "05f555fd",
   "metadata": {},
   "outputs": [],
   "source": [
    "def transition_prob_2(i,j,N):\n",
    "    if j == i+2:\n",
    "        return ((N-i)*(N-i-1)*(N-i-2)*(N-i-3))/((N)*(N-1)*(N-2)*(N-3))\n",
    "    if j == i+1:\n",
    "        return 4*((N-i)*(N-i-1)*(N-i-2)*(i))/((N)*(N-1)*(N-2)*(N-3))\n",
    "    if j == i-1:\n",
    "        return 2*((N-i)*(i)*(i-1)*(i-2))/((N)*(N-1)*(N-2)*(N-3))\n",
    "    if j == i:\n",
    "        return ((i)*(i-1))/(N*(N-1)) + 5*((N-i)*(N-i-1)*(i)*(i-1))/((N)*(N-1)*(N-2)*(N-3))\n",
    "    else:\n",
    "        return 0"
   ]
  },
  {
   "cell_type": "code",
   "execution_count": 40,
   "id": "49850c30",
   "metadata": {},
   "outputs": [],
   "source": [
    "N=100"
   ]
  },
  {
   "cell_type": "code",
   "execution_count": 41,
   "id": "e91f2fa9",
   "metadata": {},
   "outputs": [],
   "source": [
    "M = np.array([[transition_prob_2(i,j,N) for j in range(2,N-1)] for i in range(2, N-1)])"
   ]
  },
  {
   "cell_type": "code",
   "execution_count": 26,
   "id": "f8753092",
   "metadata": {},
   "outputs": [
    {
     "data": {
      "text/plain": [
       "array([[0.4       , 0.53333333, 0.06666667],\n",
       "       [0.1       , 0.7       , 0.2       ],\n",
       "       [0.        , 0.26666667, 0.73333333]])"
      ]
     },
     "execution_count": 26,
     "metadata": {},
     "output_type": "execute_result"
    }
   ],
   "source": [
    "M"
   ]
  },
  {
   "cell_type": "code",
   "execution_count": null,
   "id": "afa10767",
   "metadata": {},
   "outputs": [],
   "source": []
  },
  {
   "cell_type": "code",
   "execution_count": 42,
   "id": "3f34bd72",
   "metadata": {},
   "outputs": [],
   "source": [
    "e_values, e_vectors = np.linalg.eig(np.transpose(M))\n",
    "#dist = np.where(e_values == 1)"
   ]
  },
  {
   "cell_type": "code",
   "execution_count": 43,
   "id": "42385fec",
   "metadata": {},
   "outputs": [
    {
     "data": {
      "text/plain": [
       "(array([59], dtype=int64),)"
      ]
     },
     "execution_count": 43,
     "metadata": {},
     "output_type": "execute_result"
    }
   ],
   "source": [
    "np.where(1 - e_values <= 0.00000000000001)"
   ]
  },
  {
   "cell_type": "code",
   "execution_count": 44,
   "id": "aad2e91f",
   "metadata": {},
   "outputs": [
    {
     "data": {
      "text/plain": [
       "(1.000000000000002+0j)"
      ]
     },
     "execution_count": 44,
     "metadata": {},
     "output_type": "execute_result"
    }
   ],
   "source": [
    "e_values[59]"
   ]
  },
  {
   "cell_type": "code",
   "execution_count": 148,
   "id": "6bd9fea9",
   "metadata": {},
   "outputs": [],
   "source": [
    "e_vectors = np.where(np.iscomplex(e_vectors) == True, 0, e_vectors)"
   ]
  },
  {
   "cell_type": "code",
   "execution_count": 45,
   "id": "a5f9fd47",
   "metadata": {},
   "outputs": [
    {
     "data": {
      "text/plain": [
       "array([-1.53683854e-27+0.j, -5.50957726e-24+0.j,  4.39546942e-23+0.j,\n",
       "       -3.18665556e-21+0.j,  2.37570001e-20+0.j, -3.22044481e-19+0.j,\n",
       "        5.62783847e-19+0.j,  2.45609203e-19+0.j, -5.42372875e-18+0.j,\n",
       "       -1.18163435e-17+0.j, -1.21564699e-16+0.j, -1.24288420e-16+0.j,\n",
       "       -9.21661240e-17+0.j,  1.78600237e-16+0.j,  3.79586483e-16+0.j,\n",
       "        4.79076843e-16+0.j,  2.49769315e-16+0.j,  4.66040923e-16+0.j,\n",
       "        4.54766613e-17+0.j, -1.58273958e-17+0.j, -3.06947138e-16+0.j,\n",
       "       -1.87191478e-16+0.j, -2.55189656e-16+0.j, -2.18764964e-16+0.j,\n",
       "       -3.84844214e-17+0.j, -2.38495006e-17+0.j,  2.25520064e-16+0.j,\n",
       "        1.14748620e-16+0.j,  1.09545092e-16+0.j, -1.81960849e-16+0.j,\n",
       "       -5.06205650e-16+0.j, -1.13179431e-15+0.j, -3.88867462e-15+0.j,\n",
       "       -2.97637702e-14+0.j, -2.79956116e-13+0.j, -2.50101609e-12+0.j,\n",
       "       -2.04058666e-11+0.j, -1.51372015e-10+0.j, -1.02172472e-09+0.j,\n",
       "       -6.28280651e-09+0.j, -3.52392513e-08+0.j, -1.80481836e-07+0.j,\n",
       "       -8.44915548e-07+0.j, -3.61880391e-06+0.j, -1.41921867e-05+0.j,\n",
       "       -5.10023035e-05+0.j, -1.68063983e-04+0.j, -5.08109935e-04+0.j,\n",
       "       -1.41013036e-03+0.j, -3.59390929e-03+0.j, -8.41466736e-03+0.j,\n",
       "       -1.81047674e-02+0.j, -3.58037087e-02+0.j, -6.50884546e-02+0.j,\n",
       "       -1.08780610e-01+0.j, -1.67136010e-01+0.j, -2.36062733e-01+0.j,\n",
       "       -3.06449871e-01+0.j, -3.65568764e-01+0.j, -4.00613662e-01+0.j,\n",
       "       -4.03147746e-01+0.j, -3.72377450e-01+0.j, -3.15532868e-01+0.j,\n",
       "       -2.45115164e-01+0.j, -1.74438004e-01+0.j, -1.13630462e-01+0.j,\n",
       "       -6.76896326e-02+0.j, -3.68353394e-02+0.j, -1.82898646e-02+0.j,\n",
       "       -8.27542432e-03+0.j, -3.40700126e-03+0.j, -1.27425624e-03+0.j,\n",
       "       -4.32184556e-04+0.j, -1.32663949e-04+0.j, -3.67755919e-05+0.j,\n",
       "       -9.18416006e-06+0.j, -2.06076165e-06+0.j, -4.14219773e-07+0.j,\n",
       "       -7.43374493e-08+0.j, -1.18672068e-08+0.j, -1.67821832e-09+0.j,\n",
       "       -2.09254951e-10+0.j, -2.28838257e-11+0.j, -2.18168025e-12+0.j,\n",
       "       -1.80075730e-13+0.j, -1.27660029e-14+0.j, -7.70070772e-16+0.j,\n",
       "       -3.90927698e-17+0.j, -1.64821937e-18+0.j, -5.67925668e-20+0.j,\n",
       "       -1.56753463e-21+0.j, -3.37784568e-23+0.j, -5.49219067e-25+0.j,\n",
       "       -6.42420514e-27+0.j, -5.02988590e-29+0.j, -2.32800180e-31+0.j,\n",
       "       -4.79174182e-34+0.j])"
      ]
     },
     "execution_count": 45,
     "metadata": {},
     "output_type": "execute_result"
    }
   ],
   "source": [
    "np.transpose(e_vectors)[59]"
   ]
  },
  {
   "cell_type": "code",
   "execution_count": 123,
   "id": "1e56ada7",
   "metadata": {},
   "outputs": [],
   "source": [
    "a = np.round(np.transpose(e_vectors)[56], decimals=14)"
   ]
  },
  {
   "cell_type": "code",
   "execution_count": 125,
   "id": "66bf1621",
   "metadata": {},
   "outputs": [],
   "source": [
    "a = a/sum(a)"
   ]
  },
  {
   "cell_type": "code",
   "execution_count": 133,
   "id": "7c6459a3",
   "metadata": {},
   "outputs": [
    {
     "name": "stderr",
     "output_type": "stream",
     "text": [
      "C:\\Users\\konst\\anaconda3\\lib\\site-packages\\numpy\\core\\_asarray.py:102: ComplexWarning: Casting complex values to real discards the imaginary part\n",
      "  return array(a, dtype, copy=False, order=order)\n"
     ]
    },
    {
     "data": {
      "text/plain": [
       "[<matplotlib.lines.Line2D at 0x13d14045d00>]"
      ]
     },
     "execution_count": 133,
     "metadata": {},
     "output_type": "execute_result"
    },
    {
     "data": {
      "image/png": "[encoded data removed]",
      "text/plain": [
       "<Figure size 432x288 with 1 Axes>"
      ]
     },
     "metadata": {
      "needs_background": "light"
     },
     "output_type": "display_data"
    }
   ],
   "source": [
    "plt.plot([i/N for i in range(1,N-1)], a)"
   ]
  },
  {
   "cell_type": "code",
   "execution_count": 47,
   "id": "129b6310",
   "metadata": {},
   "outputs": [
    {
     "name": "stderr",
     "output_type": "stream",
     "text": [
      "C:\\Users\\konst\\anaconda3\\lib\\site-packages\\numpy\\core\\_asarray.py:102: ComplexWarning: Casting complex values to real discards the imaginary part\n",
      "  return array(a, dtype, copy=False, order=order)\n"
     ]
    },
    {
     "data": {
      "text/plain": [
       "[<matplotlib.lines.Line2D at 0x263f29f7670>]"
      ]
     },
     "execution_count": 47,
     "metadata": {},
     "output_type": "execute_result"
    },
    {
     "data": {
      "image/png": "[encoded data removed]",
      "text/plain": [
       "<Figure size 432x288 with 1 Axes>"
      ]
     },
     "metadata": {
      "needs_background": "light"
     },
     "output_type": "display_data"
    }
   ],
   "source": [
    "b = np.transpose(e_vectors)[59]\n",
    "b = b/sum(b)\n",
    "plt.plot([i/N for i in range(2,N-1)], b)"
   ]
  },
  {
   "cell_type": "code",
   "execution_count": 56,
   "id": "f84f81c0",
   "metadata": {},
   "outputs": [
    {
     "data": {
      "text/plain": [
       "(0.11590034341772273-0j)"
      ]
     },
     "execution_count": 56,
     "metadata": {},
     "output_type": "execute_result"
    }
   ],
   "source": [
    "b[60]"
   ]
  },
  {
   "cell_type": "code",
   "execution_count": 155,
   "id": "b7dd906f",
   "metadata": {},
   "outputs": [
    {
     "data": {
      "text/plain": [
       "0.004928384469918001"
      ]
     },
     "execution_count": 155,
     "metadata": {},
     "output_type": "execute_result"
    }
   ],
   "source": [
    "np.std(b)"
   ]
  },
  {
   "cell_type": "code",
   "execution_count": 157,
   "id": "ea9fcca1",
   "metadata": {},
   "outputs": [
    {
     "data": {
      "text/plain": [
       "0.24197072451914337"
      ]
     },
     "execution_count": 157,
     "metadata": {},
     "output_type": "execute_result"
    }
   ],
   "source": [
    "norm.pdf(x, 0.5, np.std(b))"
   ]
  },
  {
   "cell_type": "code",
   "execution_count": 158,
   "id": "5369116b",
   "metadata": {},
   "outputs": [
    {
     "data": {
      "text/plain": [
       "[<matplotlib.lines.Line2D at 0x13d1707c430>]"
      ]
     },
     "execution_count": 158,
     "metadata": {},
     "output_type": "execute_result"
    },
    {
     "data": {
      "image/png": "[encoded data removed]",
      "text/plain": [
       "<Figure size 432x288 with 1 Axes>"
      ]
     },
     "metadata": {
      "needs_background": "light"
     },
     "output_type": "display_data"
    }
   ],
   "source": [
    "x = [i/N for i in range(1,N-1)]\n",
    "plt.plot(x, norm.pdf(x, 0.5, np.std(b)))"
   ]
  },
  {
   "cell_type": "code",
   "execution_count": 48,
   "id": "d693b39b",
   "metadata": {},
   "outputs": [
    {
     "data": {
      "text/plain": [
       "False"
      ]
     },
     "execution_count": 48,
     "metadata": {},
     "output_type": "execute_result"
    }
   ],
   "source": [
    "np.iscomplex(e_values[0])"
   ]
  },
  {
   "cell_type": "code",
   "execution_count": 73,
   "id": "f0121dd4",
   "metadata": {},
   "outputs": [
    {
     "data": {
      "text/plain": [
       "(0.999999999999998+0j)"
      ]
     },
     "execution_count": 73,
     "metadata": {},
     "output_type": "execute_result"
    }
   ],
   "source": [
    "e_values[56]"
   ]
  },
  {
   "cell_type": "code",
   "execution_count": 74,
   "id": "26d10d7a",
   "metadata": {},
   "outputs": [
    {
     "data": {
      "text/plain": [
       "array([-1.58413280e-20+0.j, -4.40066275e-19+0.j, -2.59977615e-18+0.j,\n",
       "        5.89282593e-17+0.j,  6.91973751e-16+0.j,  8.52293280e-16+0.j,\n",
       "        1.24702596e-15+0.j,  9.99180632e-16+0.j,  7.12338664e-16+0.j,\n",
       "        2.74709679e-16+0.j, -2.87708560e-16+0.j, -8.86198694e-16+0.j,\n",
       "       -1.58997976e-15+0.j, -2.18164548e-15+0.j, -2.74059735e-15+0.j,\n",
       "       -3.09849987e-15+0.j, -3.32901335e-15+0.j, -3.50352333e-15+0.j,\n",
       "       -3.36671011e-15+0.j, -3.28741694e-15+0.j, -3.03263887e-15+0.j,\n",
       "       -4.64450008e-15+0.j, -2.86228854e-14+0.j, -2.80172486e-13+0.j,\n",
       "       -2.61307270e-12+0.j, -2.20010758e-11+0.j, -1.66973870e-10+0.j,\n",
       "       -1.14473433e-09+0.j, -7.10523898e-09+0.j, -4.00098360e-08+0.j,\n",
       "       -2.04781516e-07+0.j, -9.54339655e-07+0.j, -4.05594352e-06+0.j,\n",
       "       -1.57429893e-05+0.j, -5.58809974e-05+0.j, -1.81613242e-04+0.j,\n",
       "       -5.41022029e-04+0.j, -1.47876789e-03+0.j, -3.71188702e-03+0.j,\n",
       "       -8.56351370e-03+0.j, -1.81713583e-02+0.j, -3.54879664e-02+0.j,\n",
       "       -6.38233194e-02+0.j, -1.05753756e-01+0.j, -1.61514827e-01+0.j,\n",
       "       -2.27447208e-01+0.j, -2.95407845e-01+0.j, -3.53939453e-01+0.j,\n",
       "       -3.91259599e-01+0.j, -3.99084791e-01+0.j, -3.75609215e-01+0.j,\n",
       "       -3.26179496e-01+0.j, -2.61322325e-01+0.j, -1.93115554e-01+0.j,\n",
       "       -1.31604674e-01+0.j, -8.26802092e-02+0.j, -4.78674895e-02+0.j,\n",
       "       -2.55264320e-02+0.j, -1.25319713e-02+0.j, -5.66062770e-03+0.j,\n",
       "       -2.35086178e-03+0.j, -8.96957574e-04+0.j, -3.14141823e-04+0.j,\n",
       "       -1.00896245e-04+0.j, -2.96867799e-05+0.j, -7.99259458e-06+0.j,\n",
       "       -1.96651807e-06+0.j, -4.41560137e-07+0.j, -9.03447834e-08+0.j,\n",
       "       -1.68157272e-08+0.j, -2.84209533e-09+0.j, -4.35321948e-10+0.j,\n",
       "       -6.02952398e-11+0.j, -7.53297270e-12+0.j, -8.48303490e-13+0.j,\n",
       "       -8.48569100e-14+0.j, -7.65309103e-15+0.j, -7.17511135e-16+0.j,\n",
       "        4.26356518e-17+0.j, -3.02016638e-17+0.j,  4.77916206e-18+0.j,\n",
       "       -6.58155610e-19+0.j,  5.49942347e-20+0.j, -6.42908290e-21+0.j,\n",
       "        2.71205225e-22+0.j, -1.30716923e-23+0.j,  4.07654933e-25+0.j,\n",
       "       -8.17331450e-27+0.j,  1.59726305e-28+0.j, -1.56617750e-30+0.j,\n",
       "        1.18544527e-32+0.j, -5.28487913e-35+0.j,  1.28958189e-37+0.j,\n",
       "       -3.28918588e-40+0.j,  3.61560435e-43+0.j, -9.89943446e-47+0.j,\n",
       "        1.01588493e-50+0.j, -2.34449600e-54+0.j])"
      ]
     },
     "execution_count": 74,
     "metadata": {},
     "output_type": "execute_result"
    }
   ],
   "source": [
    "dist = np.transpose(e_vectors)[56]\n",
    "#dist = dist/sum(dist)\n",
    "dist"
   ]
  },
  {
   "cell_type": "code",
   "execution_count": 68,
   "id": "de523a28",
   "metadata": {},
   "outputs": [
    {
     "data": {
      "text/plain": [
       "0.9999999999999999"
      ]
     },
     "execution_count": 68,
     "metadata": {},
     "output_type": "execute_result"
    }
   ],
   "source": [
    "sum(dist)"
   ]
  }
 ],
 "metadata": {
  "kernelspec": {
   "display_name": "Python 3 (ipykernel)",
   "language": "python",
   "name": "python3"
  },
  "language_info": {
   "codemirror_mode": {
    "name": "ipython",
    "version": 3
   },
   "file_extension": ".py",
   "mimetype": "text/x-python",
   "name": "python",
   "nbconvert_exporter": "python",
   "pygments_lexer": "ipython3",
   "version": "3.9.7"
  }
 },
 "nbformat": 4,
 "nbformat_minor": 5
}
