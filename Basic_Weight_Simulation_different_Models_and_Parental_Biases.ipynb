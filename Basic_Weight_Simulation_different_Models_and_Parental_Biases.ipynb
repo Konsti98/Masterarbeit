{
 "cells": [
  {
   "cell_type": "code",
   "execution_count": 1,
   "id": "31657db7",
   "metadata": {},
   "outputs": [],
   "source": [
    "import numpy as np\n",
    "import matplotlib.pyplot as plt\n",
    "from matplotlib import lines\n",
    "import copy\n",
    "import time\n",
    "import sys\n",
    "import math\n",
    "from IPython.display import clear_output\n",
    "np.set_printoptions(threshold=sys.maxsize)\n",
    "rng = np.random.default_rng()"
   ]
  },
  {
   "cell_type": "markdown",
   "id": "cbbb05a9",
   "metadata": {},
   "source": [
    "# Simulate weights in biparental Moran model"
   ]
  },
  {
   "cell_type": "code",
   "execution_count": 2,
   "id": "e3de42ea",
   "metadata": {},
   "outputs": [],
   "source": [
    "def simulate_weights_coupled(p=[0.5], N=1000, n=1000000, idealized=False, Weights=\"None\"):\n",
    "    \"\"\"\n",
    "    Simulates coupled weights for same reproduction events for different values of the paternal bias p\n",
    "    (backwards in time). The Model is a biparental Moran model.\n",
    "    \n",
    "            Parameters:\n",
    "                    p (float or list of floats in [0,1]): Portion of any individual's weight that splits off to mother.\n",
    "                    N (int): Population size.\n",
    "                    n (int): Number of time steps.\n",
    "                    idealized (bool): If 'True', coupled idealized process (for p=1/N^2) is simulated.\n",
    "                    Weights (real np.array of shape (len[p]+idealized,N)): Starting weights of population.  \n",
    "                    Previously simulated weights can be inserted to continue the simulation.\n",
    "                    \n",
    "            Returns:\n",
    "                    Weights (list of np_arrays of shape (len[p]+idealized,N)): List of weights of population n time \n",
    "                    steps in the past for all values of p. Idealized weights are last.\n",
    "    \n",
    "    \"\"\"\n",
    "    if isinstance(p, float): \n",
    "        p = [p]\n",
    "    num_experiments = len(p) #Number of separate weight vectors are needed\n",
    "    \n",
    "    if idealized: #Algorithm is different for idealized weights\n",
    "        if Weights == \"None\": #If no starting weights are given, they are generated as the weights of the population at time 0\n",
    "            Weights = np.ones(shape=(num_experiments+1, N))\n",
    "            for j in range(N-1):\n",
    "                Weights[num_experiments][j] = 0\n",
    "            Weights[num_experiments] = Weights[num_experiments]*N\n",
    "        indices = np.arange(0, N, 1, dtype=int)\n",
    "        \n",
    "        print(\"Simulating weights:\") #Plots progress bar\n",
    "        clear_output(wait=True)\n",
    "        \n",
    "        for i in range(n): #Simulates weights over n time steps\n",
    "            kappa, pi, mu = rng.choice(indices, size=3, replace=False)\n",
    "            for j in range(num_experiments): #First block: Transition of weight process. Second block: Transition of idealized\n",
    "                Weights[j][pi] = Weights[j][pi] + (p[j])*Weights[j][kappa]\n",
    "                Weights[j][mu] = Weights[j][mu] + (1-p[j])*Weights[j][kappa]\n",
    "                Weights[j][kappa] = 0\n",
    "                \n",
    "            if Weights[num_experiments][kappa] > Weights[num_experiments][mu]: \n",
    "                Weights[num_experiments][mu] = Weights[num_experiments][kappa]\n",
    "            if Weights[num_experiments][kappa] > Weights[num_experiments][pi]:\n",
    "                Weights[num_experiments][pi] = Weights[num_experiments][kappa]/(N**2)\n",
    "            Weights[num_experiments][kappa] = 0\n",
    "            \n",
    "            if (i % 10000) == 0: #Updates progress bar every 10.000 tiem steps\n",
    "                print(\"\\rSimulating weights: \" + str(round((100*i)/n)) + \"%\")\n",
    "                clear_output(wait=True)\n",
    "    else: #Same algorithm without idealized weights\n",
    "        if Weights == \"None\":\n",
    "            Weights = np.ones(shape=(num_experiments, N))\n",
    "        indices = np.arange(0, N, 1, dtype=int)\n",
    "        \n",
    "        print(\"Simulating weights:\")\n",
    "        clear_output(wait=True)\n",
    "        \n",
    "        for i in range(n):\n",
    "            kappa, pi, mu = rng.choice(indices, size=3, replace=False)\n",
    "            for j in range(num_experiments):\n",
    "                Weights[j][pi] = Weights[j][pi] + (p[j])*Weights[j][kappa]\n",
    "                Weights[j][mu] = Weights[j][mu] + (1-p[j])*Weights[j][kappa]\n",
    "                Weights[j][kappa] = 0\n",
    "                \n",
    "            if (i % 10000) == 0:\n",
    "                print(\"\\rSimulating weights: \" + str(round((100*i)/n)) + \"%\")\n",
    "                clear_output(wait=True)\n",
    "                \n",
    "    print(\"Simulating weights: 100%\")\n",
    "    clear_output(wait=True)\n",
    "    \n",
    "    return Weights"
   ]
  },
  {
   "cell_type": "code",
   "execution_count": 3,
   "id": "28f1d4ab",
   "metadata": {},
   "outputs": [],
   "source": [
    "def simulate_weights_fast(p=0.5, N=1000, n=1000000):\n",
    "    \"\"\"\n",
    "    Simulates weights for a biparental Moran model with parental bias p. Only slightly faster because progress bar is less \n",
    "    accurate.\n",
    "    \"\"\"\n",
    "    Weights = np.ones(N)\n",
    "    indices = np.arange(0, N, 1, dtype=int)\n",
    "    print(\"Simulating weights:\")\n",
    "    clear_output(wait=True)\n",
    "    for i in range(n):\n",
    "        kappa, pi, mu = rng.choice(indices, size=3, replace=False)\n",
    "        Weights[pi] = Weights[pi] + (p)*Weights[kappa]\n",
    "        Weights[mu] = Weights[mu] + (1-p)*Weights[kappa]\n",
    "        Weights[kappa] = 0\n",
    "        if (i % 100000) == 0:\n",
    "            print(\"\\rSimulating weights: \" + str(round((100*i)/n)) + \"%\")\n",
    "            clear_output(wait=True)\n",
    "    print(\"Simulating weights: 100%\")\n",
    "    clear_output(wait=True)\n",
    "    return Weights"
   ]
  },
  {
   "cell_type": "markdown",
   "id": "47d19e1f",
   "metadata": {},
   "source": [
    "### Example 1"
   ]
  },
  {
   "cell_type": "code",
   "execution_count": 44,
   "id": "1fbcd831",
   "metadata": {},
   "outputs": [
    {
     "name": "stdout",
     "output_type": "stream",
     "text": [
      "0 seconds\n",
      "Maximum weight: 7.780222726256613\n",
      "Number of zero-weights: 45\n"
     ]
    }
   ],
   "source": [
    "start = time.time()\n",
    "\n",
    "N = 100\n",
    "n = 10000\n",
    "\n",
    "indices = np.arange(0, N, 1, dtype=int)\n",
    "weights = simulate_weights_coupled(N=N, n=n)[0] #Simulates weights for both parents contributing equally (p=1/2)\n",
    "weights.sort()\n",
    "\n",
    "end = time.time()\n",
    "print(str(round(end-start)) + \" seconds\")\n",
    "print(\"Maximum weight: \" + str(np.max(weights)))\n",
    "print(\"Number of zero-weights: \" + str(np.where(weights != 0)[0][0]))"
   ]
  },
  {
   "cell_type": "code",
   "execution_count": 46,
   "id": "dd7ed4dd",
   "metadata": {},
   "outputs": [
    {
     "data": {
      "text/plain": [
       "<matplotlib.legend.Legend at 0x141b4081d00>"
      ]
     },
     "execution_count": 46,
     "metadata": {},
     "output_type": "execute_result"
    },
    {
     "data": {
      "image/png": "[encoded data removed]",
      "text/plain": [
       "<Figure size 648x432 with 1 Axes>"
      ]
     },
     "metadata": {
      "needs_background": "light"
     },
     "output_type": "display_data"
    }
   ],
   "source": [
    "plt.bar(indices, weights, width=1, linewidth=0.1, edgecolor=\"black\", label=\"weights\")\n",
    "plt.xlabel(\"Individuals (sorted by weight)\", fontsize=\"x-large\")\n",
    "plt.ylabel(\"Weight\", fontsize=\"x-large\")\n",
    "plt.title(\"Neutral biparental Moran model\", fontsize=\"x-large\")\n",
    "\n",
    "ax = plt.gca()\n",
    "fig = plt.gcf()\n",
    "fig.set_size_inches(9, 6)\n",
    "\n",
    "#This part plots the Quantile function corresponding to the Limit (n,N -> inf) found by Camille Coron & Yves Le Jan\n",
    "Quantiles = -(2)*np.log(2*(1-indices[int((N*0.5)):]/N))\n",
    "y = list(np.zeros(int((N*0.5))))\n",
    "y.extend(Quantiles)\n",
    "plt.plot(indices, y, linewidth=3, color=\"darkorange\", label=\"Quantile function of limit\")\n",
    "plt.legend(fontsize=\"x-large\")"
   ]
  },
  {
   "cell_type": "markdown",
   "id": "9bc8b532",
   "metadata": {},
   "source": [
    "### Example 2"
   ]
  },
  {
   "cell_type": "code",
   "execution_count": 25,
   "id": "fe7c19dc",
   "metadata": {},
   "outputs": [
    {
     "name": "stdout",
     "output_type": "stream",
     "text": [
      "3.8 minutes\n",
      "Maximum weight q=0.1: 35.410054525061014\n",
      "Maximum weight q=0.01: 192.30257975312756\n",
      "Maximum weight q=0.001: 807.0690869271687\n",
      "Number of zero-weights: 521\n"
     ]
    }
   ],
   "source": [
    "start = time.time()\n",
    "\n",
    "N = 1000\n",
    "n = 10000000\n",
    "\n",
    "indices = np.arange(0, N, 1, dtype=int)\n",
    "weights_coupled = simulate_weights_coupled(p=[0.1,0.01,0.001], N=N, n=n)\n",
    "\"Simulates coupled weights for small values of p\"\n",
    "weights_coupled.sort()\n",
    "\n",
    "end = time.time()\n",
    "print(str(round((end-start)/60, 1)) + \" minutes\")\n",
    "print(\"Maximum weight q=0.1: \" + str(np.max(weights_coupled[0])))\n",
    "print(\"Maximum weight q=0.01: \" + str(np.max(weights_coupled[1])))\n",
    "print(\"Maximum weight q=0.001: \" + str(np.max(weights_coupled[2])))\n",
    "print(\"Number of zero-weights: \" + str(np.where(weights_coupled[0] != 0)[0][0]))"
   ]
  },
  {
   "cell_type": "code",
   "execution_count": 29,
   "id": "c326baba",
   "metadata": {},
   "outputs": [
    {
     "data": {
      "text/plain": [
       "<matplotlib.legend.Legend at 0x141a814aa00>"
      ]
     },
     "execution_count": 29,
     "metadata": {},
     "output_type": "execute_result"
    },
    {
     "data": {
      "image/png": "[encoded data removed]",
      "text/plain": [
       "<Figure size 648x432 with 1 Axes>"
      ]
     },
     "metadata": {
      "needs_background": "light"
     },
     "output_type": "display_data"
    }
   ],
   "source": [
    "plt.bar(indices, weights_coupled[0], width=1, linewidth=0.05, edgecolor=\"black\", label=\"weights\")\n",
    "plt.xlabel(\"Individuals (sorted by weight)\", fontsize=\"x-large\")\n",
    "plt.ylabel(\"Weight\", fontsize=\"x-large\")\n",
    "plt.title(\"Biparental Moran model with p=0.1\", fontsize=\"x-large\")\n",
    "\n",
    "ax = plt.gca()\n",
    "ax.set_ylim([0, 35]) # Fix y-axis to be the same for all simulations for comparison\n",
    "ax.set_xlim([np.where(weights_coupled[0] != 0)[0][0], None]) # Only show strictly positive weights\n",
    "fig = plt.gcf()\n",
    "fig.set_size_inches(9, 6)\n",
    "plt.legend(fontsize=\"x-large\")"
   ]
  },
  {
   "cell_type": "code",
   "execution_count": 30,
   "id": "2e58c95b",
   "metadata": {},
   "outputs": [
    {
     "data": {
      "text/plain": [
       "<matplotlib.legend.Legend at 0x141a8b7c070>"
      ]
     },
     "execution_count": 30,
     "metadata": {},
     "output_type": "execute_result"
    },
    {
     "data": {
      "image/png": "[encoded data removed]",
      "text/plain": [
       "<Figure size 648x432 with 1 Axes>"
      ]
     },
     "metadata": {
      "needs_background": "light"
     },
     "output_type": "display_data"
    }
   ],
   "source": [
    "plt.bar(indices, weights_coupled[1], width=1, linewidth=0.05, edgecolor=\"black\", label=\"weights\")\n",
    "plt.xlabel(\"Individuals (sorted by weight)\", fontsize=\"x-large\")\n",
    "plt.ylabel(\"Weight\", fontsize=\"x-large\")\n",
    "plt.title(\"Biparental Moran model with p=0.01\", fontsize=\"x-large\")\n",
    "\n",
    "ax = plt.gca()\n",
    "ax.set_ylim([0, 35]) # Fix y-axis to be the same for all simulations for comparison\n",
    "ax.set_xlim([np.where(weights_coupled[0] != 0)[0][0], None]) # Only show strictly positive weights\n",
    "fig = plt.gcf()\n",
    "fig.set_size_inches(9, 6)\n",
    "plt.legend(fontsize=\"x-large\")"
   ]
  },
  {
   "cell_type": "code",
   "execution_count": 31,
   "id": "7b85e076",
   "metadata": {},
   "outputs": [
    {
     "data": {
      "text/plain": [
       "<matplotlib.legend.Legend at 0x141aa3edb20>"
      ]
     },
     "execution_count": 31,
     "metadata": {},
     "output_type": "execute_result"
    },
    {
     "data": {
      "image/png": "[encoded data removed]",
      "text/plain": [
       "<Figure size 648x432 with 1 Axes>"
      ]
     },
     "metadata": {
      "needs_background": "light"
     },
     "output_type": "display_data"
    }
   ],
   "source": [
    "plt.bar(indices, weights_coupled[2], width=1, linewidth=0.05, edgecolor=\"black\", label=\"weights\")\n",
    "plt.xlabel(\"Individuals (sorted by weight)\", fontsize=\"x-large\")\n",
    "plt.ylabel(\"Weight\", fontsize=\"x-large\")\n",
    "plt.title(\"Biparental Moran model with p=0.001\", fontsize=\"x-large\")\n",
    "\n",
    "ax = plt.gca()\n",
    "ax.set_ylim([0, 35]) # Fix y-axis to be the same for all simulations for comparison\n",
    "ax.set_xlim([np.where(weights_coupled[0] != 0)[0][0], None]) # Only show strictly positive weights\n",
    "fig = plt.gcf()\n",
    "fig.set_size_inches(9, 6)\n",
    "plt.legend(fontsize=\"x-large\")"
   ]
  },
  {
   "cell_type": "markdown",
   "id": "c6a7c7f9",
   "metadata": {},
   "source": [
    "# Biparental Moran with two children"
   ]
  },
  {
   "cell_type": "code",
   "execution_count": 33,
   "id": "f24dab12",
   "metadata": {},
   "outputs": [],
   "source": [
    "def simulate_weights_moran_2_children(N, n):\n",
    "    \"\"\"\n",
    "    Simulates weights of neutral (p1= 1/2 and p2=1/2) biparental Moran-type model with two children backwards in time.\n",
    "    \"\"\"\n",
    "    Weights = np.ones(N)\n",
    "    indices= np.arange(0, N, 1, dtype=int)\n",
    "    for i in range(n):\n",
    "        kappa, delta, pi, mu = rng.choice(indices, size=4, replace=False)\n",
    "        Weights[pi] = Weights[pi] + (1/2)*Weights[kappa] + (1/2)*Weights[delta]\n",
    "        Weights[mu] = Weights[mu] + (1/2)*Weights[kappa] + (1/2)*Weights[delta]\n",
    "        Weights[kappa]=0\n",
    "        Weights[delta]=0\n",
    "    return Weights"
   ]
  },
  {
   "cell_type": "markdown",
   "id": "f124c1a0",
   "metadata": {},
   "source": [
    "### Example"
   ]
  },
  {
   "cell_type": "code",
   "execution_count": 34,
   "id": "edef89d4",
   "metadata": {},
   "outputs": [
    {
     "name": "stdout",
     "output_type": "stream",
     "text": [
      "16 seconds\n",
      "Maximum weight: 18.627841059752097\n",
      "Number of zero-weights: 6202\n"
     ]
    }
   ],
   "source": [
    "start = time.time()\n",
    "\n",
    "N = 10000\n",
    "n = 1000000\n",
    "\n",
    "indices = np.arange(0, N, 1, dtype=int)\n",
    "weights_2children = simulate_weights_moran_2_children(N, n)\n",
    "weights_2children.sort()\n",
    "\n",
    "end = time.time()\n",
    "print(str(round(end-start)) + \" seconds\")\n",
    "print(\"Maximum weight: \" + str(np.max(weights_2children)))\n",
    "print(\"Number of zero-weights: \" + str(np.where(weights_2children != 0)[0][0]))"
   ]
  },
  {
   "cell_type": "code",
   "execution_count": 35,
   "id": "40d8d5d7",
   "metadata": {},
   "outputs": [
    {
     "data": {
      "text/plain": [
       "<matplotlib.legend.Legend at 0x141aa3ed1c0>"
      ]
     },
     "execution_count": 35,
     "metadata": {},
     "output_type": "execute_result"
    },
    {
     "data": {
      "image/png": "[encoded data removed]",
      "text/plain": [
       "<Figure size 648x432 with 1 Axes>"
      ]
     },
     "metadata": {
      "needs_background": "light"
     },
     "output_type": "display_data"
    }
   ],
   "source": [
    "plt.bar(indices, weights_2children, width=1, linewidth=0, edgecolor=\"black\", label = \"weights\")\n",
    "plt.xlabel(\"Individuals (sorted by weight)\", fontsize=\"x-large\")\n",
    "plt.ylabel(\"Weight\", fontsize=\"x-large\")\n",
    "plt.title(\"Biparental Moran-type model with two children\", fontsize=\"x-large\")\n",
    "\n",
    "ax = plt.gca()\n",
    "fig = plt.gcf()\n",
    "fig.set_size_inches(9, 6)\n",
    "#ax.set_ylim([0, 12])\n",
    "\n",
    "plt.legend(fontsize=\"x-large\")"
   ]
  },
  {
   "cell_type": "markdown",
   "id": "9728cf13",
   "metadata": {},
   "source": [
    "# Biparental Wright-Fisher Model"
   ]
  },
  {
   "cell_type": "code",
   "execution_count": 36,
   "id": "c754ddae",
   "metadata": {},
   "outputs": [],
   "source": [
    "def simulate_weights_wright_fisher(N, n):\n",
    "    \"\"\"\n",
    "    Simulates weights of neutral biparental Wright-Fisher model backwards in time. Double Loop makes it slow.\n",
    "    \"\"\"\n",
    "    Weights = np.ones(N)\n",
    "    indices= np.arange(0, N, 1, dtype=int)\n",
    "    for i in range(n):\n",
    "        np.random.shuffle(indices)\n",
    "        parents = np.random.randint(0, N/2, size=(N))\n",
    "        w = np.zeros(N)\n",
    "        counter = 0\n",
    "        for j in parents:\n",
    "            w[indices[2*j]] += 0.5*Weights[counter]\n",
    "            w[indices[2*j+1]] += 0.5*Weights[counter]\n",
    "            counter += 1\n",
    "        Weights = w\n",
    "    return Weights"
   ]
  },
  {
   "cell_type": "markdown",
   "id": "b46310de",
   "metadata": {},
   "source": [
    "# 5-parental Moran Model"
   ]
  },
  {
   "cell_type": "code",
   "execution_count": 37,
   "id": "90663cef",
   "metadata": {},
   "outputs": [],
   "source": [
    "def simulate_weights_moran_5_parents(N, n):\n",
    "    \"\"\"\n",
    "    Simulates weights of neutral 5-parental Moran-type model backwards in time. rng.shuffle scales much wors in N \n",
    "    than rng.choice.\n",
    "    \"\"\"\n",
    "    Weights = np.ones(N)\n",
    "    indices= np.arange(0, N, 1, dtype=int)\n",
    "    for i in range(n):\n",
    "        rng.shuffle(indices)\n",
    "        kappa=indices[0]\n",
    "        pi=indices[1]\n",
    "        mu=indices[2]\n",
    "        alpha=indices[3]\n",
    "        beta=indices[4]\n",
    "        delta=indices[5]\n",
    "        Weights[pi] = Weights[pi] + 0.2*Weights[kappa]\n",
    "        Weights[mu] = Weights[mu] + 0.2*Weights[kappa]\n",
    "        Weights[alpha] = Weights[alpha] + 0.2*Weights[kappa]\n",
    "        Weights[beta] = Weights[beta] + 0.2*Weights[kappa]\n",
    "        Weights[delta] = Weights[delta] + 0.2*Weights[kappa]\n",
    "        Weights[kappa]=0\n",
    "    return Weights"
   ]
  },
  {
   "cell_type": "markdown",
   "id": "c84c3693",
   "metadata": {},
   "source": [
    "### Example"
   ]
  },
  {
   "cell_type": "code",
   "execution_count": 38,
   "id": "2b56b33c",
   "metadata": {},
   "outputs": [
    {
     "name": "stdout",
     "output_type": "stream",
     "text": [
      "170 seconds\n",
      "Maximum weight W-F: 5.713661700573173\n",
      "Maximum weight 5-Moran: 8.966774821936077\n",
      "Number of zero-weights W-F: 210\n",
      "Number of zero-weights 5-Moran: 197\n"
     ]
    }
   ],
   "source": [
    "start = time.time()\n",
    "\n",
    "N = 1000\n",
    "n = 100000\n",
    "\n",
    "indices = np.arange(0, N, 1, dtype=int)\n",
    "weights_wf = simulate_weights_wright_fisher(N, n)\n",
    "weights_m5 = simulate_weights_moran_5_parents(N, n)\n",
    "weights_wf.sort()\n",
    "weights_m5.sort()\n",
    "\n",
    "end = time.time()\n",
    "print(str(round(end-start)) + \" seconds\")\n",
    "print(\"Maximum weight W-F: \" + str(np.max(weights_wf)))\n",
    "print(\"Maximum weight 5-Moran: \" + str(np.max(weights_m5)))\n",
    "print(\"Number of zero-weights W-F: \" + str(np.where(weights_wf != 0)[0][0]))\n",
    "print(\"Number of zero-weights 5-Moran: \" + str(np.where(weights_m5 != 0)[0][0]))"
   ]
  },
  {
   "cell_type": "code",
   "execution_count": 39,
   "id": "533c85fe",
   "metadata": {},
   "outputs": [
    {
     "data": {
      "text/plain": [
       "<matplotlib.legend.Legend at 0x141b1eadfd0>"
      ]
     },
     "execution_count": 39,
     "metadata": {},
     "output_type": "execute_result"
    },
    {
     "data": {
      "image/png": "[encoded data removed]",
      "text/plain": [
       "<Figure size 648x432 with 1 Axes>"
      ]
     },
     "metadata": {
      "needs_background": "light"
     },
     "output_type": "display_data"
    }
   ],
   "source": [
    "plt.plot(indices, weights_wf, linewidth=2.5, label = \"Wright-Fisher\")\n",
    "plt.plot(indices, weights_m5, linewidth=3, label = \"5-parental Moran\")\n",
    "plt.xlabel(\"Individuals (sorted by weight)\", fontsize=\"x-large\")\n",
    "plt.ylabel(\"Weight\", fontsize=\"x-large\")\n",
    "plt.title(\"Comparison of 5-parental Moran and 2-parental W-F Model\", fontsize=\"x-large\")\n",
    "fig = plt.gcf()\n",
    "fig.set_size_inches(9, 6)\n",
    "plt.legend(fontsize=\"x-large\")"
   ]
  },
  {
   "cell_type": "code",
   "execution_count": 40,
   "id": "1f795fe9",
   "metadata": {},
   "outputs": [
    {
     "data": {
      "text/plain": [
       "<matplotlib.legend.Legend at 0x141b1eb5640>"
      ]
     },
     "execution_count": 40,
     "metadata": {},
     "output_type": "execute_result"
    },
    {
     "data": {
      "image/png": "[encoded data removed]",
      "text/plain": [
       "<Figure size 648x432 with 1 Axes>"
      ]
     },
     "metadata": {
      "needs_background": "light"
     },
     "output_type": "display_data"
    }
   ],
   "source": [
    "plt.bar(indices, weights_m5, width=1, linewidth=0.08, edgecolor=\"black\", label=\"weights\")\n",
    "plt.xlabel(\"Individuals (sorted by weight)\", fontsize=\"x-large\")\n",
    "plt.ylabel(\"Weight\", fontsize=\"x-large\")\n",
    "plt.title(\"5-parental Moran\", fontsize=\"x-large\")\n",
    "\n",
    "ax = plt.gca()\n",
    "fig = plt.gcf()\n",
    "fig.set_size_inches(9, 6)\n",
    "ax.set_ylim([0, 9])\n",
    "\n",
    "#This part plots the Quantile function corresponding to the Limit (n,N -> inf) found by Camille Coron & Yves Le Jan.\n",
    "#Here weights are 0 with probability 1/5 and otherwise EXP(4/5) distributed.\n",
    "Quantiles = -(5/4)*np.log((5/4)*(1-indices[int((N*0.2)):]/N))\n",
    "y = list(np.zeros(int((N*0.2))))\n",
    "y.extend(Quantiles)\n",
    "plt.plot(indices, y, color=\"darkorange\", linewidth=3, label=\"Limit-quantile function\")\n",
    "plt.legend(fontsize=\"x-large\")"
   ]
  },
  {
   "cell_type": "markdown",
   "id": "368a6edb",
   "metadata": {},
   "source": [
    "# Biparental Moran model with sexes"
   ]
  },
  {
   "cell_type": "code",
   "execution_count": 41,
   "id": "5f45acc8",
   "metadata": {},
   "outputs": [],
   "source": [
    "def simulate_weights_moran_with_sexes(N, n):\n",
    "    \"\"\"\n",
    "    Simulates weights of neutral Moran model with sexes backwards in time. N is half the population size.\n",
    "    \"\"\"\n",
    "    Weights_male = np.ones(N)\n",
    "    Weights_female = np.ones(N)\n",
    "    indices_male = np.arange(0, N, 1, dtype=int)\n",
    "    indices_female = np.arange(0, N, 1, dtype=int)\n",
    "    for i in range(n):\n",
    "        pi, kappa_male = rng.choice(indices_male, size=2, replace=False)\n",
    "        mu, kappa_female = rng.choice(indices_female, size=2, replace=False)\n",
    "        kappa_gender = np.random.randint(2)\n",
    "        if kappa_gender == 0:\n",
    "            Weights_male[pi] = Weights_male[pi] + (1/2)*Weights_male[kappa_male]\n",
    "            Weights_female[mu] = Weights_female[mu] + (1/2)*Weights_male[kappa_male]\n",
    "            Weights_male[kappa_male]=0\n",
    "        if kappa_gender == 1:\n",
    "            Weights_male[pi] = Weights_male[pi] + (1/2)*Weights_female[kappa_female]\n",
    "            Weights_female[mu] = Weights_female[mu] + (1/2)*Weights_female[kappa_female]\n",
    "            Weights_female[kappa_female]=0\n",
    "    return np.append(Weights_male, Weights_female)"
   ]
  },
  {
   "cell_type": "markdown",
   "id": "f49971d1",
   "metadata": {},
   "source": [
    "### Example"
   ]
  },
  {
   "cell_type": "code",
   "execution_count": 42,
   "id": "57f3cff8",
   "metadata": {},
   "outputs": [
    {
     "name": "stdout",
     "output_type": "stream",
     "text": [
      "3 seconds\n",
      "Maximum weight: 13.732821724134592\n",
      "Number of zero-weights: 481\n"
     ]
    }
   ],
   "source": [
    "start = time.time()\n",
    "\n",
    "N = 500\n",
    "n = 100000\n",
    "\n",
    "indices = np.arange(0, 2*N, 1, dtype=int)\n",
    "weights_sexes = simulate_weights_moran_with_sexes(N, n)\n",
    "weights_sexes.sort()\n",
    "\n",
    "end = time.time()\n",
    "print(str(round(end-start)) + \" seconds\")\n",
    "print(\"Maximum weight: \" + str(np.max(weights_sexes)))\n",
    "print(\"Number of zero-weights: \" + str(np.where(weights_sexes != 0)[0][0]))"
   ]
  },
  {
   "cell_type": "code",
   "execution_count": 43,
   "id": "f276b478",
   "metadata": {},
   "outputs": [
    {
     "data": {
      "text/plain": [
       "<matplotlib.legend.Legend at 0x141b2676d00>"
      ]
     },
     "execution_count": 43,
     "metadata": {},
     "output_type": "execute_result"
    },
    {
     "data": {
      "image/png": "[encoded data removed]",
      "text/plain": [
       "<Figure size 648x432 with 1 Axes>"
      ]
     },
     "metadata": {
      "needs_background": "light"
     },
     "output_type": "display_data"
    }
   ],
   "source": [
    "plt.bar(indices, weights_sexes, width=1, linewidth=0.08, edgecolor=\"black\", label=\"weights\")\n",
    "plt.xlabel(\"Individuals (sorted by weight)\", fontsize=\"x-large\")\n",
    "plt.ylabel(\"Weight\", fontsize=\"x-large\")\n",
    "plt.title(\"Neutral biparental Moran with sexes\", fontsize=\"x-large\")\n",
    "\n",
    "ax = plt.gca()\n",
    "fig = plt.gcf()\n",
    "fig.set_size_inches(9, 6)\n",
    "\n",
    "#This part plots the Quantile function corresponding to the Limit (n,N -> inf) found by Camille Coron & Yves Le Jan.\n",
    "Quantiles = -(2)*np.log(2*(1-indices[int((N)):]/(2*N)))\n",
    "y = list(np.zeros(int((N))))\n",
    "y.extend(Quantiles)\n",
    "plt.plot(indices, y, color=\"darkorange\", linewidth=2, label=\"Limit-quantile function\")\n",
    "plt.legend(fontsize=\"x-large\")"
   ]
  },
  {
   "cell_type": "markdown",
   "id": "ad71ac54",
   "metadata": {},
   "source": [
    "# Empirical moments compared to proven limit for different p"
   ]
  },
  {
   "cell_type": "code",
   "execution_count": 47,
   "id": "d3e92fe2",
   "metadata": {},
   "outputs": [],
   "source": [
    "def compute_first_k_moments(k, p):\n",
    "    \"\"\"\n",
    "    Computes first k moments of limiting distribution of a weight (N,n -> inf) according to limit proven in thesis.\n",
    "    \"\"\"\n",
    "    moments = [-1]\n",
    "    if k == 1:\n",
    "        return np.array([1])\n",
    "    for m in range(2, k+1):\n",
    "        m_moment = 0\n",
    "        for i in range(1,m):\n",
    "            m_moment += (p**i + (1-p)**i)*moments[i-1]*moments[m-i-1]\n",
    "        m_moment = m_moment / (1-p**m-(1-p)**m)\n",
    "        moments.append(m_moment)\n",
    "    return np.array(moments)*np.array([np.math.factorial(i)*(-1)**i for i in range(1,k+1)])"
   ]
  },
  {
   "cell_type": "code",
   "execution_count": 48,
   "id": "8eb67266",
   "metadata": {},
   "outputs": [],
   "source": [
    "def estimate_first_k_moments(k, p, N=10000, n=1000000):\n",
    "    \"\"\"\n",
    "    Estimates first k moments of simulated weights according to the standard moment method. These estimators \n",
    "    are unfortunately biased. Unbiased estimators could be computed for the centered moments.\n",
    "    \"\"\"\n",
    "    est_moments = np.zeros(k)\n",
    "    Weights = np.ones(N)\n",
    "    indices= np.arange(0, N, 1, dtype=int)\n",
    "    print(\"Simulating weights:\")\n",
    "    clear_output(wait=True)\n",
    "    for i in range(n):\n",
    "        kappa, pi, mu = rng.choice(indices, size=3, replace=False)\n",
    "        Weights[pi] = Weights[pi] + (p)*Weights[kappa]\n",
    "        Weights[mu] = Weights[mu] + (1-p)*Weights[kappa]\n",
    "        Weights[kappa]=0\n",
    "        if (i % 10000) == 0:\n",
    "            print(\"\\rSimulating weights: \" + str(round((100*i)/n)) + \"%\")\n",
    "            clear_output(wait=True)\n",
    "    print(\"Simulating weights: 100%\")\n",
    "    clear_output(wait=True)\n",
    "    weights = copy.deepcopy(Weights)\n",
    "    for i in range(0, k):\n",
    "        est_moments[i] = np.mean(weights)\n",
    "        weights *= Weights\n",
    "    return est_moments"
   ]
  },
  {
   "cell_type": "markdown",
   "id": "437e5446",
   "metadata": {},
   "source": [
    "### Example"
   ]
  },
  {
   "cell_type": "code",
   "execution_count": 49,
   "id": "e9033b62",
   "metadata": {},
   "outputs": [
    {
     "data": {
      "text/plain": [
       "array([1.00e+00, 4.00e+00, 2.40e+01, 1.92e+02, 1.92e+03])"
      ]
     },
     "execution_count": 49,
     "metadata": {},
     "output_type": "execute_result"
    }
   ],
   "source": [
    "# Computed moments of heuristically found limit for p=0.5\n",
    "compute_first_k_moments(k=5, p=0.5)"
   ]
  },
  {
   "cell_type": "code",
   "execution_count": 50,
   "id": "f6e8aac1",
   "metadata": {},
   "outputs": [
    {
     "data": {
      "text/plain": [
       "[1, 4, 24, 192, 1920]"
      ]
     },
     "execution_count": 50,
     "metadata": {},
     "output_type": "execute_result"
    }
   ],
   "source": [
    "# Moments of proven limit found by Camille Coron & Yves Le Jan\n",
    "moments = []\n",
    "for i in range(1, 6):\n",
    "    moments.append(2**(i-1)*np.math.factorial(i))\n",
    "moments"
   ]
  },
  {
   "cell_type": "markdown",
   "id": "75fa8613",
   "metadata": {},
   "source": [
    "### Example for p=0.25\n",
    "#### Mean empirical moments over 15 tries compared to calculated moments proven in thesis"
   ]
  },
  {
   "cell_type": "code",
   "execution_count": 51,
   "id": "6a9006bc",
   "metadata": {},
   "outputs": [
    {
     "name": "stdout",
     "output_type": "stream",
     "text": [
      "4.1 minutes\n"
     ]
    }
   ],
   "source": [
    "start = time.time()\n",
    "\n",
    "moments_independent_sim = []\n",
    "for i in range(15):\n",
    "    moments_independent_sim.append(list(estimate_first_k_moments(8, 0.25, N=50000, n=1000000)))\n",
    "\n",
    "moments_independent_sim = np.array(moments_independent_sim)    \n",
    "#text_file = open(\"estimated_moments_p=0,25.txt\", \"w\")\n",
    "#text_file.write(np.array2string(moments_independent_sim))\n",
    "#text_file.close()\n",
    "\n",
    "means_of_moments = np.mean(moments_independent_sim, axis=0)\n",
    "standard_errors = np.std(moments_independent_sim, axis=0) / np.sqrt(15)\n",
    "\n",
    "end = time.time()\n",
    "print(str(round((end-start)/60, 1)) + \" minutes\")"
   ]
  },
  {
   "cell_type": "code",
   "execution_count": 55,
   "id": "90b0f8a4",
   "metadata": {},
   "outputs": [
    {
     "data": {
      "text/plain": [
       "array([1.00000000e+00, 5.33333333e+00, 4.62222222e+01, 5.47964240e+02,\n",
       "       8.18764070e+03, 1.47200126e+05, 3.09014648e+06, 7.41587950e+07])"
      ]
     },
     "execution_count": 55,
     "metadata": {},
     "output_type": "execute_result"
    }
   ],
   "source": [
    "compute_first_k_moments(k=8, p=0.25)"
   ]
  },
  {
   "cell_type": "code",
   "execution_count": 53,
   "id": "2a87a987",
   "metadata": {},
   "outputs": [
    {
     "data": {
      "text/plain": [
       "array([1.00000000e+00, 5.32464173e+00, 4.60668181e+01, 5.46223497e+02,\n",
       "       8.19146394e+03, 1.48377255e+05, 3.14383620e+06, 7.58590006e+07])"
      ]
     },
     "execution_count": 53,
     "metadata": {},
     "output_type": "execute_result"
    }
   ],
   "source": [
    "means_of_moments"
   ]
  },
  {
   "cell_type": "code",
   "execution_count": 54,
   "id": "249150b0",
   "metadata": {},
   "outputs": [
    {
     "data": {
      "text/plain": [
       "array([2.86658352e-17, 1.22051017e-02, 2.81140889e-01, 7.43927956e+00,\n",
       "       2.40643422e+02, 8.46361028e+03, 3.07055171e+05, 1.13264853e+07])"
      ]
     },
     "execution_count": 54,
     "metadata": {},
     "output_type": "execute_result"
    }
   ],
   "source": [
    "standard_errors"
   ]
  }
 ],
 "metadata": {
  "kernelspec": {
   "display_name": "Python 3 (ipykernel)",
   "language": "python",
   "name": "python3"
  },
  "language_info": {
   "codemirror_mode": {
    "name": "ipython",
    "version": 3
   },
   "file_extension": ".py",
   "mimetype": "text/x-python",
   "name": "python",
   "nbconvert_exporter": "python",
   "pygments_lexer": "ipython3",
   "version": "3.9.7"
  }
 },
 "nbformat": 4,
 "nbformat_minor": 5
}
