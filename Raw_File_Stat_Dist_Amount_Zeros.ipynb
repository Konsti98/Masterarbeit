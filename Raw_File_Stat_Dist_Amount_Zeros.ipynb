{
 "cells": [
  {
   "cell_type": "code",
   "execution_count": 1,
   "id": "06da679a",
   "metadata": {},
   "outputs": [],
   "source": [
    "import numpy as np\n",
    "from scipy.stats import norm\n",
    "import scipy\n",
    "import matplotlib.pyplot as plt"
   ]
  },
  {
   "cell_type": "code",
   "execution_count": 59,
   "id": "45a888dd",
   "metadata": {},
   "outputs": [],
   "source": [
    "N=1000"
   ]
  },
  {
   "cell_type": "code",
   "execution_count": 29,
   "id": "179b2a91",
   "metadata": {},
   "outputs": [],
   "source": [
    "def transition_prob(i,j,N):\n",
    "    if j == i+1:\n",
    "        return ((N-i)*(N-i-1)*(N-i-2))/((N)*(N-1)*(N-2))\n",
    "    if j == i-1:\n",
    "        return ((N-i)*(i)*(i-1))/((N)*(N-1)*(N-2))\n",
    "    if j == i:\n",
    "        return i/N + (2*(N-i)*(i)*(N-i-1))/((N)*(N-1)*(N-2))\n",
    "    else:\n",
    "        return 0"
   ]
  },
  {
   "cell_type": "code",
   "execution_count": 73,
   "id": "7f58c440",
   "metadata": {},
   "outputs": [],
   "source": [
    "M = np.array([[transition_prob(i,j,N) for j in range(1,N-1)] for i in range(1, N-1)])"
   ]
  },
  {
   "cell_type": "code",
   "execution_count": 93,
   "id": "266f26ff",
   "metadata": {},
   "outputs": [
    {
     "data": {
      "text/plain": [
       "array([[3.00000000e-02, 9.70000000e-01, 0.00000000e+00, ...,\n",
       "        0.00000000e+00, 0.00000000e+00, 0.00000000e+00],\n",
       "       [2.02020202e-04, 5.91919192e-02, 9.40606061e-01, ...,\n",
       "        0.00000000e+00, 0.00000000e+00, 0.00000000e+00],\n",
       "       [0.00000000e+00, 5.99876314e-04, 8.75881262e-02, ...,\n",
       "        0.00000000e+00, 0.00000000e+00, 0.00000000e+00],\n",
       "       ...,\n",
       "       [0.00000000e+00, 0.00000000e+00, 0.00000000e+00, ...,\n",
       "        9.62374768e-01, 2.47371676e-05, 0.00000000e+00],\n",
       "       [0.00000000e+00, 0.00000000e+00, 0.00000000e+00, ...,\n",
       "        2.87940631e-02, 9.71199753e-01, 6.18429190e-06],\n",
       "       [0.00000000e+00, 0.00000000e+00, 0.00000000e+00, ...,\n",
       "        0.00000000e+00, 1.95959596e-02, 9.80404040e-01]])"
      ]
     },
     "execution_count": 93,
     "metadata": {},
     "output_type": "execute_result"
    }
   ],
   "source": [
    "M"
   ]
  },
  {
   "cell_type": "code",
   "execution_count": null,
   "id": "de73c034",
   "metadata": {},
   "outputs": [],
   "source": []
  },
  {
   "cell_type": "code",
   "execution_count": 3,
   "id": "05f555fd",
   "metadata": {},
   "outputs": [],
   "source": [
    "def transition_prob_2(i,j,N):\n",
    "    if j == i+2:\n",
    "        return ((N-i)*(N-i-1)*(N-i-2)*(N-i-3))/((N)*(N-1)*(N-2)*(N-3))\n",
    "    if j == i+1:\n",
    "        return 4*((N-i)*(N-i-1)*(N-i-2)*(i))/((N)*(N-1)*(N-2)*(N-3))\n",
    "    if j == i-1:\n",
    "        return 2*((N-i)*(i)*(i-1)*(i-2))/((N)*(N-1)*(N-2)*(N-3))\n",
    "    if j == i:\n",
    "        return ((i)*(i-1))/(N*(N-1)) + 5*((N-i)*(N-i-1)*(i)*(i-1))/((N)*(N-1)*(N-2)*(N-3))\n",
    "    else:\n",
    "        return 0"
   ]
  },
  {
   "cell_type": "code",
   "execution_count": 46,
   "id": "49850c30",
   "metadata": {},
   "outputs": [],
   "source": [
    "N=10"
   ]
  },
  {
   "cell_type": "code",
   "execution_count": 61,
   "id": "e91f2fa9",
   "metadata": {},
   "outputs": [],
   "source": [
    "M = np.array([[transition_prob_2(i,j,N) for j in range(2,N-1)] for i in range(2, N-1)])"
   ]
  },
  {
   "cell_type": "code",
   "execution_count": 26,
   "id": "f8753092",
   "metadata": {},
   "outputs": [
    {
     "data": {
      "text/plain": [
       "array([[0.4       , 0.53333333, 0.06666667],\n",
       "       [0.1       , 0.7       , 0.2       ],\n",
       "       [0.        , 0.26666667, 0.73333333]])"
      ]
     },
     "execution_count": 26,
     "metadata": {},
     "output_type": "execute_result"
    }
   ],
   "source": [
    "M"
   ]
  },
  {
   "cell_type": "code",
   "execution_count": null,
   "id": "afa10767",
   "metadata": {},
   "outputs": [],
   "source": []
  },
  {
   "cell_type": "code",
   "execution_count": 74,
   "id": "3f34bd72",
   "metadata": {},
   "outputs": [],
   "source": [
    "e_values, e_vectors = np.linalg.eig(np.transpose(M))\n",
    "#dist = np.where(e_values == 1)"
   ]
  },
  {
   "cell_type": "code",
   "execution_count": 75,
   "id": "42385fec",
   "metadata": {},
   "outputs": [
    {
     "data": {
      "text/plain": [
       "(array([397], dtype=int64),)"
      ]
     },
     "execution_count": 75,
     "metadata": {},
     "output_type": "execute_result"
    }
   ],
   "source": [
    "np.where(1 - e_values <= 0.00000000000001)"
   ]
  },
  {
   "cell_type": "code",
   "execution_count": 44,
   "id": "aad2e91f",
   "metadata": {},
   "outputs": [
    {
     "data": {
      "text/plain": [
       "(1.000000000000002+0j)"
      ]
     },
     "execution_count": 44,
     "metadata": {},
     "output_type": "execute_result"
    }
   ],
   "source": [
    "e_values[59]"
   ]
  },
  {
   "cell_type": "code",
   "execution_count": 64,
   "id": "6bd9fea9",
   "metadata": {},
   "outputs": [],
   "source": [
    "e_vectors = np.where(np.iscomplex(e_vectors) == True, 0, e_vectors)"
   ]
  },
  {
   "cell_type": "code",
   "execution_count": 34,
   "id": "a5f9fd47",
   "metadata": {},
   "outputs": [
    {
     "data": {
      "text/plain": [
       "array([-1.58413280e-20+0.j, -4.40066275e-19+0.j, -2.59977615e-18+0.j,\n",
       "        5.89282593e-17+0.j,  6.91973751e-16+0.j,  8.52293280e-16+0.j,\n",
       "        1.24702596e-15+0.j,  9.99180632e-16+0.j,  7.12338664e-16+0.j,\n",
       "        2.74709679e-16+0.j, -2.87708560e-16+0.j, -8.86198694e-16+0.j,\n",
       "       -1.58997976e-15+0.j, -2.18164548e-15+0.j, -2.74059735e-15+0.j,\n",
       "       -3.09849987e-15+0.j, -3.32901335e-15+0.j, -3.50352333e-15+0.j,\n",
       "       -3.36671011e-15+0.j, -3.28741694e-15+0.j, -3.03263887e-15+0.j,\n",
       "       -4.64450008e-15+0.j, -2.86228854e-14+0.j, -2.80172486e-13+0.j,\n",
       "       -2.61307270e-12+0.j, -2.20010758e-11+0.j, -1.66973870e-10+0.j,\n",
       "       -1.14473433e-09+0.j, -7.10523898e-09+0.j, -4.00098360e-08+0.j,\n",
       "       -2.04781516e-07+0.j, -9.54339655e-07+0.j, -4.05594352e-06+0.j,\n",
       "       -1.57429893e-05+0.j, -5.58809974e-05+0.j, -1.81613242e-04+0.j,\n",
       "       -5.41022029e-04+0.j, -1.47876789e-03+0.j, -3.71188702e-03+0.j,\n",
       "       -8.56351370e-03+0.j, -1.81713583e-02+0.j, -3.54879664e-02+0.j,\n",
       "       -6.38233194e-02+0.j, -1.05753756e-01+0.j, -1.61514827e-01+0.j,\n",
       "       -2.27447208e-01+0.j, -2.95407845e-01+0.j, -3.53939453e-01+0.j,\n",
       "       -3.91259599e-01+0.j, -3.99084791e-01+0.j, -3.75609215e-01+0.j,\n",
       "       -3.26179496e-01+0.j, -2.61322325e-01+0.j, -1.93115554e-01+0.j,\n",
       "       -1.31604674e-01+0.j, -8.26802092e-02+0.j, -4.78674895e-02+0.j,\n",
       "       -2.55264320e-02+0.j, -1.25319713e-02+0.j, -5.66062770e-03+0.j,\n",
       "       -2.35086178e-03+0.j, -8.96957574e-04+0.j, -3.14141823e-04+0.j,\n",
       "       -1.00896245e-04+0.j, -2.96867799e-05+0.j, -7.99259458e-06+0.j,\n",
       "       -1.96651807e-06+0.j, -4.41560137e-07+0.j, -9.03447834e-08+0.j,\n",
       "       -1.68157272e-08+0.j, -2.84209533e-09+0.j, -4.35321948e-10+0.j,\n",
       "       -6.02952398e-11+0.j, -7.53297270e-12+0.j, -8.48303490e-13+0.j,\n",
       "       -8.48569100e-14+0.j, -7.65309103e-15+0.j, -7.17511135e-16+0.j,\n",
       "        4.26356518e-17+0.j, -3.02016638e-17+0.j,  4.77916206e-18+0.j,\n",
       "       -6.58155610e-19+0.j,  5.49942347e-20+0.j, -6.42908290e-21+0.j,\n",
       "        2.71205225e-22+0.j, -1.30716923e-23+0.j,  4.07654933e-25+0.j,\n",
       "       -8.17331450e-27+0.j,  1.59726305e-28+0.j, -1.56617750e-30+0.j,\n",
       "        1.18544527e-32+0.j, -5.28487913e-35+0.j,  1.28958189e-37+0.j,\n",
       "       -3.28918588e-40+0.j,  3.61560435e-43+0.j, -9.89943446e-47+0.j,\n",
       "        1.01588493e-50+0.j, -2.34449600e-54+0.j])"
      ]
     },
     "execution_count": 34,
     "metadata": {},
     "output_type": "execute_result"
    }
   ],
   "source": [
    "np.transpose(e_vectors)[56]"
   ]
  },
  {
   "cell_type": "code",
   "execution_count": 76,
   "id": "1e56ada7",
   "metadata": {},
   "outputs": [],
   "source": [
    "a = np.round(np.transpose(e_vectors)[397], decimals=14)"
   ]
  },
  {
   "cell_type": "code",
   "execution_count": 77,
   "id": "66bf1621",
   "metadata": {},
   "outputs": [],
   "source": [
    "a = a/sum(a)"
   ]
  },
  {
   "cell_type": "code",
   "execution_count": 78,
   "id": "7c6459a3",
   "metadata": {},
   "outputs": [
    {
     "name": "stderr",
     "output_type": "stream",
     "text": [
      "C:\\Users\\konst\\anaconda3\\lib\\site-packages\\numpy\\core\\_asarray.py:102: ComplexWarning: Casting complex values to real discards the imaginary part\n",
      "  return array(a, dtype, copy=False, order=order)\n"
     ]
    },
    {
     "data": {
      "text/plain": [
       "[<matplotlib.lines.Line2D at 0x1c8f98b3e50>]"
      ]
     },
     "execution_count": 78,
     "metadata": {},
     "output_type": "execute_result"
    },
    {
     "data": {
      "image/png": "[encoded data removed]",
      "text/plain": [
       "<Figure size 432x288 with 1 Axes>"
      ]
     },
     "metadata": {
      "needs_background": "light"
     },
     "output_type": "display_data"
    }
   ],
   "source": [
    "plt.plot([i/N for i in range(1,N-1)], a)"
   ]
  },
  {
   "cell_type": "code",
   "execution_count": 58,
   "id": "de9401c2",
   "metadata": {},
   "outputs": [
    {
     "data": {
      "image/png": "[encoded data removed]",
      "text/plain": [
       "<Figure size 432x288 with 1 Axes>"
      ]
     },
     "metadata": {},
     "output_type": "display_data"
    }
   ],
   "source": [
    "x = [i/N for i in range(1,N-1)]\n",
    "#my_xticks = [0.1*i for i in range(10)]\n",
    "\n",
    "\n",
    "fig, ax = plt.subplots(facecolor='white')                                    # create figure and axes objects\n",
    "plt.bar(x, a, width=0.09, linewidth=0.1, edgecolor=\"black\", label=\"Gewichte\")\n",
    "#fig.set_size_inches(4, 3)# make plot\n",
    "#ax.set_xticks(x)                 \n",
    "#ax.set_xlim([0.4,0.8])# set x tick positions\n",
    "#ax.set_xticklabels(my_xticks)                                                # set the corresponding x tick labels\n",
    "ax.grid(axis='y')"
   ]
  },
  {
   "cell_type": "code",
   "execution_count": 88,
   "id": "7937e0de",
   "metadata": {},
   "outputs": [
    {
     "data": {
      "image/png": "[encoded data removed]",
      "text/plain": [
       "<Figure size 432x288 with 1 Axes>"
      ]
     },
     "metadata": {},
     "output_type": "display_data"
    }
   ],
   "source": [
    "x = [i/N for i in range(1,N-1)]\n",
    "my_xticks = [0.1*i for i in range(10)]\n",
    "\n",
    "\n",
    "fig, ax = plt.subplots(facecolor='white')                                    # create figure and axes objects\n",
    "plt.bar(x, a, width=0.001, linewidth=0, edgecolor=\"black\", label=\"Gewichte\")\n",
    "#fig.set_size_inches(4, 3)# make plot\n",
    "#ax.set_xticks(my_xticks)                 \n",
    "#ax.set_xlim([0.425,0.575])# set x tick positions\n",
    "#ax.set_xticklabels(my_xticks)                                                # set the corresponding x tick labels\n",
    "ax.grid(axis='y')"
   ]
  },
  {
   "cell_type": "code",
   "execution_count": null,
   "id": "531c3c06",
   "metadata": {},
   "outputs": [],
   "source": []
  },
  {
   "cell_type": "code",
   "execution_count": null,
   "id": "06ce20da",
   "metadata": {},
   "outputs": [],
   "source": []
  },
  {
   "cell_type": "code",
   "execution_count": null,
   "id": "cef09e67",
   "metadata": {},
   "outputs": [],
   "source": []
  },
  {
   "cell_type": "code",
   "execution_count": 16,
   "id": "129b6310",
   "metadata": {},
   "outputs": [
    {
     "name": "stderr",
     "output_type": "stream",
     "text": [
      "C:\\Users\\konst\\anaconda3\\lib\\site-packages\\numpy\\core\\_asarray.py:102: ComplexWarning: Casting complex values to real discards the imaginary part\n",
      "  return array(a, dtype, copy=False, order=order)\n"
     ]
    },
    {
     "data": {
      "text/plain": [
       "[<matplotlib.lines.Line2D at 0x1c8f96ad160>]"
      ]
     },
     "execution_count": 16,
     "metadata": {},
     "output_type": "execute_result"
    },
    {
     "data": {
      "image/png": "[encoded data removed]",
      "text/plain": [
       "<Figure size 432x288 with 1 Axes>"
      ]
     },
     "metadata": {
      "needs_background": "light"
     },
     "output_type": "display_data"
    }
   ],
   "source": [
    "b = np.transpose(e_vectors)[59]\n",
    "b = b/sum(b)\n",
    "plt.plot([i/N for i in range(2,N-1)], b)"
   ]
  },
  {
   "cell_type": "code",
   "execution_count": 28,
   "id": "c7768949",
   "metadata": {},
   "outputs": [
    {
     "data": {
      "image/png": "[encoded data removed]",
      "text/plain": [
       "<Figure size 432x288 with 1 Axes>"
      ]
     },
     "metadata": {},
     "output_type": "display_data"
    }
   ],
   "source": [
    "x = [i/N for i in range(2,N-1)]\n",
    "#my_xticks = [0.1*i for i in range(10)]\n",
    "\n",
    "\n",
    "fig, ax = plt.subplots(facecolor='white')                                    # create figure and axes objects\n",
    "plt.bar(x, b, width=0.007, linewidth=0.1, edgecolor=\"black\", label=\"Gewichte\")\n",
    "#fig.set_size_inches(4, 3)# make plot\n",
    "#ax.set_xticks(x)                 \n",
    "ax.set_xlim([0.4,0.8])# set x tick positions\n",
    "#ax.set_xticklabels(my_xticks)                                                # set the corresponding x tick labels\n",
    "ax.grid(axis='y')"
   ]
  },
  {
   "cell_type": "code",
   "execution_count": null,
   "id": "415c148f",
   "metadata": {},
   "outputs": [],
   "source": []
  },
  {
   "cell_type": "code",
   "execution_count": null,
   "id": "92ab238f",
   "metadata": {},
   "outputs": [],
   "source": []
  },
  {
   "cell_type": "code",
   "execution_count": null,
   "id": "38944eb0",
   "metadata": {},
   "outputs": [],
   "source": []
  },
  {
   "cell_type": "code",
   "execution_count": 56,
   "id": "f84f81c0",
   "metadata": {},
   "outputs": [
    {
     "data": {
      "text/plain": [
       "(0.11590034341772273-0j)"
      ]
     },
     "execution_count": 56,
     "metadata": {},
     "output_type": "execute_result"
    }
   ],
   "source": [
    "b[60]"
   ]
  },
  {
   "cell_type": "code",
   "execution_count": 155,
   "id": "b7dd906f",
   "metadata": {},
   "outputs": [
    {
     "data": {
      "text/plain": [
       "0.004928384469918001"
      ]
     },
     "execution_count": 155,
     "metadata": {},
     "output_type": "execute_result"
    }
   ],
   "source": [
    "np.std(b)"
   ]
  },
  {
   "cell_type": "code",
   "execution_count": 157,
   "id": "ea9fcca1",
   "metadata": {},
   "outputs": [
    {
     "data": {
      "text/plain": [
       "0.24197072451914337"
      ]
     },
     "execution_count": 157,
     "metadata": {},
     "output_type": "execute_result"
    }
   ],
   "source": [
    "norm.pdf(x, 0.5, np.std(b))"
   ]
  },
  {
   "cell_type": "code",
   "execution_count": 158,
   "id": "5369116b",
   "metadata": {},
   "outputs": [
    {
     "data": {
      "text/plain": [
       "[<matplotlib.lines.Line2D at 0x13d1707c430>]"
      ]
     },
     "execution_count": 158,
     "metadata": {},
     "output_type": "execute_result"
    },
    {
     "data": {
      "image/png": "[encoded data removed]",
      "text/plain": [
       "<Figure size 432x288 with 1 Axes>"
      ]
     },
     "metadata": {
      "needs_background": "light"
     },
     "output_type": "display_data"
    }
   ],
   "source": [
    "x = [i/N for i in range(1,N-1)]\n",
    "plt.plot(x, norm.pdf(x, 0.5, np.std(b)))"
   ]
  },
  {
   "cell_type": "code",
   "execution_count": 48,
   "id": "d693b39b",
   "metadata": {},
   "outputs": [
    {
     "data": {
      "text/plain": [
       "False"
      ]
     },
     "execution_count": 48,
     "metadata": {},
     "output_type": "execute_result"
    }
   ],
   "source": [
    "np.iscomplex(e_values[0])"
   ]
  },
  {
   "cell_type": "code",
   "execution_count": 73,
   "id": "f0121dd4",
   "metadata": {},
   "outputs": [
    {
     "data": {
      "text/plain": [
       "(0.999999999999998+0j)"
      ]
     },
     "execution_count": 73,
     "metadata": {},
     "output_type": "execute_result"
    }
   ],
   "source": [
    "e_values[56]"
   ]
  },
  {
   "cell_type": "code",
   "execution_count": 74,
   "id": "26d10d7a",
   "metadata": {},
   "outputs": [
    {
     "data": {
      "text/plain": [
       "array([-1.58413280e-20+0.j, -4.40066275e-19+0.j, -2.59977615e-18+0.j,\n",
       "        5.89282593e-17+0.j,  6.91973751e-16+0.j,  8.52293280e-16+0.j,\n",
       "        1.24702596e-15+0.j,  9.99180632e-16+0.j,  7.12338664e-16+0.j,\n",
       "        2.74709679e-16+0.j, -2.87708560e-16+0.j, -8.86198694e-16+0.j,\n",
       "       -1.58997976e-15+0.j, -2.18164548e-15+0.j, -2.74059735e-15+0.j,\n",
       "       -3.09849987e-15+0.j, -3.32901335e-15+0.j, -3.50352333e-15+0.j,\n",
       "       -3.36671011e-15+0.j, -3.28741694e-15+0.j, -3.03263887e-15+0.j,\n",
       "       -4.64450008e-15+0.j, -2.86228854e-14+0.j, -2.80172486e-13+0.j,\n",
       "       -2.61307270e-12+0.j, -2.20010758e-11+0.j, -1.66973870e-10+0.j,\n",
       "       -1.14473433e-09+0.j, -7.10523898e-09+0.j, -4.00098360e-08+0.j,\n",
       "       -2.04781516e-07+0.j, -9.54339655e-07+0.j, -4.05594352e-06+0.j,\n",
       "       -1.57429893e-05+0.j, -5.58809974e-05+0.j, -1.81613242e-04+0.j,\n",
       "       -5.41022029e-04+0.j, -1.47876789e-03+0.j, -3.71188702e-03+0.j,\n",
       "       -8.56351370e-03+0.j, -1.81713583e-02+0.j, -3.54879664e-02+0.j,\n",
       "       -6.38233194e-02+0.j, -1.05753756e-01+0.j, -1.61514827e-01+0.j,\n",
       "       -2.27447208e-01+0.j, -2.95407845e-01+0.j, -3.53939453e-01+0.j,\n",
       "       -3.91259599e-01+0.j, -3.99084791e-01+0.j, -3.75609215e-01+0.j,\n",
       "       -3.26179496e-01+0.j, -2.61322325e-01+0.j, -1.93115554e-01+0.j,\n",
       "       -1.31604674e-01+0.j, -8.26802092e-02+0.j, -4.78674895e-02+0.j,\n",
       "       -2.55264320e-02+0.j, -1.25319713e-02+0.j, -5.66062770e-03+0.j,\n",
       "       -2.35086178e-03+0.j, -8.96957574e-04+0.j, -3.14141823e-04+0.j,\n",
       "       -1.00896245e-04+0.j, -2.96867799e-05+0.j, -7.99259458e-06+0.j,\n",
       "       -1.96651807e-06+0.j, -4.41560137e-07+0.j, -9.03447834e-08+0.j,\n",
       "       -1.68157272e-08+0.j, -2.84209533e-09+0.j, -4.35321948e-10+0.j,\n",
       "       -6.02952398e-11+0.j, -7.53297270e-12+0.j, -8.48303490e-13+0.j,\n",
       "       -8.48569100e-14+0.j, -7.65309103e-15+0.j, -7.17511135e-16+0.j,\n",
       "        4.26356518e-17+0.j, -3.02016638e-17+0.j,  4.77916206e-18+0.j,\n",
       "       -6.58155610e-19+0.j,  5.49942347e-20+0.j, -6.42908290e-21+0.j,\n",
       "        2.71205225e-22+0.j, -1.30716923e-23+0.j,  4.07654933e-25+0.j,\n",
       "       -8.17331450e-27+0.j,  1.59726305e-28+0.j, -1.56617750e-30+0.j,\n",
       "        1.18544527e-32+0.j, -5.28487913e-35+0.j,  1.28958189e-37+0.j,\n",
       "       -3.28918588e-40+0.j,  3.61560435e-43+0.j, -9.89943446e-47+0.j,\n",
       "        1.01588493e-50+0.j, -2.34449600e-54+0.j])"
      ]
     },
     "execution_count": 74,
     "metadata": {},
     "output_type": "execute_result"
    }
   ],
   "source": [
    "dist = np.transpose(e_vectors)[56]\n",
    "#dist = dist/sum(dist)\n",
    "dist"
   ]
  },
  {
   "cell_type": "code",
   "execution_count": 68,
   "id": "de523a28",
   "metadata": {},
   "outputs": [
    {
     "data": {
      "text/plain": [
       "0.9999999999999999"
      ]
     },
     "execution_count": 68,
     "metadata": {},
     "output_type": "execute_result"
    }
   ],
   "source": [
    "sum(dist)"
   ]
  },
  {
   "cell_type": "code",
   "execution_count": null,
   "id": "768d463d",
   "metadata": {},
   "outputs": [],
   "source": []
  },
  {
   "cell_type": "markdown",
   "id": "f7e3b2da",
   "metadata": {},
   "source": [
    "# Stat. Vert. Größe Klasse 2"
   ]
  },
  {
   "cell_type": "code",
   "execution_count": 3,
   "id": "77719a63",
   "metadata": {},
   "outputs": [],
   "source": [
    "def transition_prob_relevant_class(i,j,N):\n",
    "    if j == i+1:\n",
    "        return ((N-i-1)*(N-i-2))/((N)*(N-1)*(N-2))\n",
    "    if j == i-1:\n",
    "        return ((i)*(i))/((N)*(N-1)) + ((i)*(i-1))/((N)*(N-1)*(N-2))\n",
    "    if j == i:\n",
    "        return 1 - ((N-i-1)*(N-i-2))/((N)*(N-1)*(N-2)) - ((i)*(i))/((N)*(N-1)) + ((i)*(i-1))/((N)*(N-1)*(N-2))\n",
    "    else:\n",
    "        return 0"
   ]
  },
  {
   "cell_type": "code",
   "execution_count": 48,
   "id": "8c54945f",
   "metadata": {},
   "outputs": [],
   "source": [
    "N=10\n",
    "M = np.array([[transition_prob_relevant_class(i,j,N) for j in range(0,N-1)] for i in range(0, N-1)])\n",
    "e_values, e_vectors = np.linalg.eig(np.transpose(M))\n",
    "idx = (np.abs(e_values - 1)).argmin()"
   ]
  },
  {
   "cell_type": "code",
   "execution_count": 49,
   "id": "364f86f7",
   "metadata": {},
   "outputs": [
    {
     "data": {
      "text/plain": [
       "[<matplotlib.lines.Line2D at 0x29cdeebeb50>]"
      ]
     },
     "execution_count": 49,
     "metadata": {},
     "output_type": "execute_result"
    },
    {
     "data": {
      "image/png": "[encoded data removed]",
      "text/plain": [
       "<Figure size 432x288 with 1 Axes>"
      ]
     },
     "metadata": {
      "needs_background": "light"
     },
     "output_type": "display_data"
    }
   ],
   "source": [
    "a = np.transpose(e_vectors)[idx]\n",
    "a = np.real_if_close(a, tol=100)\n",
    "a = a/sum(a)\n",
    "plt.plot([i for i in range(N-1)], a)\n",
    "plt.plot([np.sqrt(N)-1, np.sqrt(N)-1], [0, 0.42], color=\"r\", linewidth=0.5)"
   ]
  },
  {
   "cell_type": "code",
   "execution_count": 51,
   "id": "84f97b95",
   "metadata": {},
   "outputs": [
    {
     "name": "stdout",
     "output_type": "stream",
     "text": [
      "equilibrium_point = 2.1622776601683795\n",
      "expected_value = 2.14541496936964\n",
      "variance = 0.8888536037914232\n"
     ]
    }
   ],
   "source": [
    "expected_value = np.dot(a, np.arange(N-2))\n",
    "variance = np.dot(a, np.square(np.arange(N-2))) - expected_value**2\n",
    "print(\"equilibrium_point = \" + str(np.sqrt(N)-1))\n",
    "print(\"expected_value = \" + str(expected_value), sep=\"\\n\")\n",
    "print(\"variance = \" + str(variance))"
   ]
  },
  {
   "cell_type": "code",
   "execution_count": null,
   "id": "4ae1e915",
   "metadata": {},
   "outputs": [],
   "source": []
  },
  {
   "cell_type": "code",
   "execution_count": null,
   "id": "04cccd26",
   "metadata": {},
   "outputs": [],
   "source": []
  },
  {
   "cell_type": "code",
   "execution_count": 51,
   "id": "dba6338b",
   "metadata": {},
   "outputs": [],
   "source": [
    "N=100\n",
    "M = np.array([[transition_prob_relevant_class(i,j,N) for j in range(0,N-1)] for i in range(0, N-1)])\n",
    "e_values, e_vectors = np.linalg.eig(np.transpose(M))\n",
    "idx = (np.abs(e_values - 1)).argmin()"
   ]
  },
  {
   "cell_type": "code",
   "execution_count": 52,
   "id": "e9eb0af7",
   "metadata": {},
   "outputs": [
    {
     "data": {
      "text/plain": [
       "[<matplotlib.lines.Line2D at 0x29cdef6a2e0>]"
      ]
     },
     "execution_count": 52,
     "metadata": {},
     "output_type": "execute_result"
    },
    {
     "data": {
      "image/png": "[encoded data removed]",
      "text/plain": [
       "<Figure size 432x288 with 1 Axes>"
      ]
     },
     "metadata": {
      "needs_background": "light"
     },
     "output_type": "display_data"
    }
   ],
   "source": [
    "a = np.transpose(e_vectors)[idx]\n",
    "a = np.real_if_close(a, tol=100)\n",
    "a = a/sum(a)\n",
    "plt.plot([i for i in range(N-1)], a)\n",
    "plt.plot([np.sqrt(N)-1, np.sqrt(N)-1], [0, 0.2], color=\"r\", linewidth=0.5)"
   ]
  },
  {
   "cell_type": "code",
   "execution_count": 53,
   "id": "fca11323",
   "metadata": {},
   "outputs": [
    {
     "name": "stdout",
     "output_type": "stream",
     "text": [
      "equilibrium_point = 9.0\n",
      "expected_value = 8.864431615103761\n",
      "variance = 4.141326180095632\n"
     ]
    }
   ],
   "source": [
    "expected_value = np.dot(a, np.arange(N-1))\n",
    "variance = np.dot(a, np.square(np.arange(N-1))) - expected_value**2\n",
    "print(\"equilibrium_point = \" + str(np.sqrt(N)-1))\n",
    "print(\"expected_value = \" + str(expected_value), sep=\"\\n\")\n",
    "print(\"variance = \" + str(variance))"
   ]
  },
  {
   "cell_type": "code",
   "execution_count": null,
   "id": "912d542f",
   "metadata": {},
   "outputs": [],
   "source": []
  },
  {
   "cell_type": "code",
   "execution_count": null,
   "id": "59d95ae9",
   "metadata": {},
   "outputs": [],
   "source": []
  },
  {
   "cell_type": "code",
   "execution_count": 54,
   "id": "7fede9bb",
   "metadata": {},
   "outputs": [],
   "source": [
    "N=1000\n",
    "M = np.array([[transition_prob_relevant_class(i,j,N) for j in range(0,N-1)] for i in range(0, N-1)])\n",
    "e_values, e_vectors = np.linalg.eig(np.transpose(M))\n",
    "idx = (np.abs(e_values - 1)).argmin()"
   ]
  },
  {
   "cell_type": "code",
   "execution_count": 56,
   "id": "0abe91c6",
   "metadata": {},
   "outputs": [
    {
     "data": {
      "text/plain": [
       "[<matplotlib.lines.Line2D at 0x29cdede4d90>]"
      ]
     },
     "execution_count": 56,
     "metadata": {},
     "output_type": "execute_result"
    },
    {
     "data": {
      "image/png": "[encoded data removed]",
      "text/plain": [
       "<Figure size 432x288 with 1 Axes>"
      ]
     },
     "metadata": {
      "needs_background": "light"
     },
     "output_type": "display_data"
    }
   ],
   "source": [
    "a = np.transpose(e_vectors)[idx]\n",
    "a = np.real_if_close(a, tol=100)\n",
    "a = a/sum(a)\n",
    "plt.plot([i for i in range(N-1)], a)\n",
    "plt.plot([np.sqrt(N)-1, np.sqrt(N)-1], [0, 0.11], color=\"r\", linewidth=0.5)"
   ]
  },
  {
   "cell_type": "code",
   "execution_count": 57,
   "id": "67fee7f0",
   "metadata": {},
   "outputs": [
    {
     "data": {
      "text/plain": [
       "[<matplotlib.lines.Line2D at 0x29ce03a1160>]"
      ]
     },
     "execution_count": 57,
     "metadata": {},
     "output_type": "execute_result"
    },
    {
     "data": {
      "image/png": "[encoded data removed]",
      "text/plain": [
       "<Figure size 432x288 with 1 Axes>"
      ]
     },
     "metadata": {
      "needs_background": "light"
     },
     "output_type": "display_data"
    }
   ],
   "source": [
    "plt.plot([i for i in range(150)], a[:150])\n",
    "plt.plot([np.sqrt(N)-1, np.sqrt(N)-1], [0, 0.11], color=\"r\", linewidth=0.5)"
   ]
  },
  {
   "cell_type": "code",
   "execution_count": 58,
   "id": "cd5d86c1",
   "metadata": {},
   "outputs": [
    {
     "name": "stdout",
     "output_type": "stream",
     "text": [
      "equilibrium_point = 30.622776601683793\n",
      "expected_value = 30.41548869165639\n",
      "variance = 14.863168198112476\n"
     ]
    }
   ],
   "source": [
    "expected_value = np.dot(a, np.arange(N-1))\n",
    "variance = np.dot(a, np.square(np.arange(N-1))) - expected_value**2\n",
    "print(\"equilibrium_point = \" + str(np.sqrt(N)-1))\n",
    "print(\"expected_value = \" + str(expected_value), sep=\"\\n\")\n",
    "print(\"variance = \" + str(variance))"
   ]
  },
  {
   "cell_type": "code",
   "execution_count": null,
   "id": "9bd9c05f",
   "metadata": {},
   "outputs": [],
   "source": []
  },
  {
   "cell_type": "code",
   "execution_count": null,
   "id": "d589467e",
   "metadata": {},
   "outputs": [],
   "source": []
  },
  {
   "cell_type": "code",
   "execution_count": 59,
   "id": "d0ce8ba7",
   "metadata": {},
   "outputs": [],
   "source": [
    "N=2000\n",
    "M = np.array([[transition_prob_relevant_class(i,j,N) for j in range(0,N-1)] for i in range(0, N-1)])\n",
    "e_values, e_vectors = np.linalg.eig(np.transpose(M))\n",
    "idx = (np.abs(e_values - 1)).argmin()"
   ]
  },
  {
   "cell_type": "code",
   "execution_count": 60,
   "id": "ed9f50bd",
   "metadata": {},
   "outputs": [
    {
     "data": {
      "text/plain": [
       "[<matplotlib.lines.Line2D at 0x29cdebb7580>]"
      ]
     },
     "execution_count": 60,
     "metadata": {},
     "output_type": "execute_result"
    },
    {
     "data": {
      "image/png": "[encoded data removed]",
      "text/plain": [
       "<Figure size 432x288 with 1 Axes>"
      ]
     },
     "metadata": {
      "needs_background": "light"
     },
     "output_type": "display_data"
    }
   ],
   "source": [
    "a = np.transpose(e_vectors)[idx]\n",
    "a = np.real_if_close(a, tol=100)\n",
    "a = a/sum(a)\n",
    "plt.plot([i for i in range(N-1)], a)\n",
    "plt.plot([np.sqrt(N)-1, np.sqrt(N)-1], [0, 0.09], color=\"r\", linewidth=0.5)"
   ]
  },
  {
   "cell_type": "code",
   "execution_count": 61,
   "id": "73acd7fe",
   "metadata": {},
   "outputs": [
    {
     "data": {
      "text/plain": [
       "[<matplotlib.lines.Line2D at 0x29cdefea7c0>]"
      ]
     },
     "execution_count": 61,
     "metadata": {},
     "output_type": "execute_result"
    },
    {
     "data": {
      "image/png": "[encoded data removed]",
      "text/plain": [
       "<Figure size 432x288 with 1 Axes>"
      ]
     },
     "metadata": {
      "needs_background": "light"
     },
     "output_type": "display_data"
    }
   ],
   "source": [
    "plt.plot([i for i in range(150)], a[:150])\n",
    "plt.plot([np.sqrt(N)-1, np.sqrt(N)-1], [0, 0.09], color=\"r\", linewidth=0.5)"
   ]
  },
  {
   "cell_type": "code",
   "execution_count": 62,
   "id": "84130091",
   "metadata": {},
   "outputs": [
    {
     "name": "stdout",
     "output_type": "stream",
     "text": [
      "equilibrium_point = 43.721359549995796\n",
      "expected_value = 43.50229573995848\n",
      "variance = 21.398090912617363\n"
     ]
    }
   ],
   "source": [
    "expected_value = np.dot(a, np.arange(N-1))\n",
    "variance = np.dot(a, np.square(np.arange(N-1))) - expected_value**2\n",
    "print(\"equilibrium_point = \" + str(np.sqrt(N)-1))\n",
    "print(\"expected_value = \" + str(expected_value), sep=\"\\n\")\n",
    "print(\"variance = \" + str(variance))"
   ]
  },
  {
   "cell_type": "markdown",
   "id": "4d1cbfe8",
   "metadata": {},
   "source": [
    "### Now scaled down with sqrt(N)"
   ]
  },
  {
   "cell_type": "code",
   "execution_count": 63,
   "id": "d5935cc7",
   "metadata": {},
   "outputs": [],
   "source": [
    "N=10\n",
    "M = np.array([[transition_prob_relevant_class(i,j,N) for j in range(0,N-1)] for i in range(0, N-1)])\n",
    "e_values, e_vectors = np.linalg.eig(np.transpose(M))\n",
    "idx = (np.abs(e_values - 1)).argmin()"
   ]
  },
  {
   "cell_type": "code",
   "execution_count": 64,
   "id": "2ca56aef",
   "metadata": {},
   "outputs": [
    {
     "data": {
      "text/plain": [
       "[<matplotlib.lines.Line2D at 0x29cdf053910>]"
      ]
     },
     "execution_count": 64,
     "metadata": {},
     "output_type": "execute_result"
    },
    {
     "data": {
      "image/png": "[encoded data removed]",
      "text/plain": [
       "<Figure size 432x288 with 1 Axes>"
      ]
     },
     "metadata": {
      "needs_background": "light"
     },
     "output_type": "display_data"
    }
   ],
   "source": [
    "a = np.transpose(e_vectors)[idx]\n",
    "a = np.real_if_close(a, tol=100)\n",
    "a = a/sum(a)\n",
    "plt.plot(np.arange(N-1)/np.sqrt(N), a)\n",
    "plt.plot([1 - 1/np.sqrt(N), 1 - 1/np.sqrt(N)], [0, 0.42], color=\"r\", linewidth=0.5)"
   ]
  },
  {
   "cell_type": "code",
   "execution_count": 65,
   "id": "bdd88fbe",
   "metadata": {},
   "outputs": [
    {
     "name": "stdout",
     "output_type": "stream",
     "text": [
      "scaled_equilibrium_point = 0.6837722339831621\n",
      "expected_value = 0.6784403554935277\n",
      "variance = 0.08888576278371868\n"
     ]
    }
   ],
   "source": [
    "expected_value = np.dot(a, np.arange(N-1)/np.sqrt(N))\n",
    "variance = np.dot(a, np.square((np.arange(N-1)/np.sqrt(N)))) - expected_value**2\n",
    "print(\"scaled_equilibrium_point = \" + str((np.sqrt(N)-1)/np.sqrt(N)))\n",
    "print(\"expected_value = \" + str(expected_value), sep=\"\\n\")\n",
    "print(\"variance = \" + str(variance))"
   ]
  },
  {
   "cell_type": "code",
   "execution_count": null,
   "id": "a2cdff1b",
   "metadata": {},
   "outputs": [],
   "source": []
  },
  {
   "cell_type": "code",
   "execution_count": null,
   "id": "665971bd",
   "metadata": {},
   "outputs": [],
   "source": []
  },
  {
   "cell_type": "code",
   "execution_count": 66,
   "id": "6ade1a79",
   "metadata": {},
   "outputs": [],
   "source": [
    "N=100\n",
    "M = np.array([[transition_prob_relevant_class(i,j,N) for j in range(0,N-1)] for i in range(0, N-1)])\n",
    "e_values, e_vectors = np.linalg.eig(np.transpose(M))\n",
    "idx = (np.abs(e_values - 1)).argmin()"
   ]
  },
  {
   "cell_type": "code",
   "execution_count": 67,
   "id": "6982ba2b",
   "metadata": {},
   "outputs": [
    {
     "data": {
      "text/plain": [
       "[<matplotlib.lines.Line2D at 0x29cdf0b7c40>]"
      ]
     },
     "execution_count": 67,
     "metadata": {},
     "output_type": "execute_result"
    },
    {
     "data": {
      "image/png": "[encoded data removed]",
      "text/plain": [
       "<Figure size 432x288 with 1 Axes>"
      ]
     },
     "metadata": {
      "needs_background": "light"
     },
     "output_type": "display_data"
    }
   ],
   "source": [
    "a = np.transpose(e_vectors)[idx]\n",
    "a = np.real_if_close(a, tol=100)\n",
    "a = a/sum(a)\n",
    "plt.plot(np.arange(N-1)/np.sqrt(N), a)\n",
    "plt.plot([1 - 1/np.sqrt(N), 1 - 1/np.sqrt(N)], [0, 0.2], color=\"r\", linewidth=0.5)"
   ]
  },
  {
   "cell_type": "code",
   "execution_count": 68,
   "id": "31116129",
   "metadata": {},
   "outputs": [
    {
     "name": "stdout",
     "output_type": "stream",
     "text": [
      "scaled_equilibrium_point = 0.9\n",
      "expected_value = 0.886443161510376\n",
      "variance = 0.04141326180095661\n"
     ]
    }
   ],
   "source": [
    "expected_value = np.dot(a, np.arange(N-1)/np.sqrt(N))\n",
    "variance = np.dot(a, np.square((np.arange(N-1)/np.sqrt(N)))) - expected_value**2\n",
    "print(\"scaled_equilibrium_point = \" + str((np.sqrt(N)-1)/np.sqrt(N)))\n",
    "print(\"expected_value = \" + str(expected_value), sep=\"\\n\")\n",
    "print(\"variance = \" + str(variance))"
   ]
  },
  {
   "cell_type": "code",
   "execution_count": null,
   "id": "9eef9a08",
   "metadata": {},
   "outputs": [],
   "source": []
  },
  {
   "cell_type": "code",
   "execution_count": null,
   "id": "79a7b96c",
   "metadata": {},
   "outputs": [],
   "source": []
  },
  {
   "cell_type": "code",
   "execution_count": 69,
   "id": "e57a2b6e",
   "metadata": {},
   "outputs": [],
   "source": [
    "N=1000\n",
    "M = np.array([[transition_prob_relevant_class(i,j,N) for j in range(0,N-1)] for i in range(0, N-1)])\n",
    "e_values, e_vectors = np.linalg.eig(np.transpose(M))\n",
    "idx = (np.abs(e_values - 1)).argmin()"
   ]
  },
  {
   "cell_type": "code",
   "execution_count": 70,
   "id": "8135566a",
   "metadata": {},
   "outputs": [
    {
     "data": {
      "text/plain": [
       "[<matplotlib.lines.Line2D at 0x29cdf133460>]"
      ]
     },
     "execution_count": 70,
     "metadata": {},
     "output_type": "execute_result"
    },
    {
     "data": {
      "image/png": "[encoded data removed]",
      "text/plain": [
       "<Figure size 432x288 with 1 Axes>"
      ]
     },
     "metadata": {
      "needs_background": "light"
     },
     "output_type": "display_data"
    }
   ],
   "source": [
    "a = np.transpose(e_vectors)[idx]\n",
    "a = np.real_if_close(a, tol=100)\n",
    "a = a/sum(a)\n",
    "plt.plot(np.arange(N-1)/np.sqrt(N), a)\n",
    "plt.plot([1 - 1/np.sqrt(N), 1 - 1/np.sqrt(N)], [0, 0.11], color=\"r\", linewidth=0.5)"
   ]
  },
  {
   "cell_type": "code",
   "execution_count": 71,
   "id": "2453f003",
   "metadata": {},
   "outputs": [
    {
     "name": "stdout",
     "output_type": "stream",
     "text": [
      "scaled_equilibrium_point = 0.9683772233983162\n",
      "expected_value = 0.9618222041272897\n",
      "variance = 0.014863168198112287\n"
     ]
    }
   ],
   "source": [
    "expected_value = np.dot(a, np.arange(N-1)/np.sqrt(N))\n",
    "variance = np.dot(a, np.square((np.arange(N-1)/np.sqrt(N)))) - expected_value**2\n",
    "print(\"scaled_equilibrium_point = \" + str((np.sqrt(N)-1)/np.sqrt(N)))\n",
    "print(\"expected_value = \" + str(expected_value), sep=\"\\n\")\n",
    "print(\"variance = \" + str(variance))"
   ]
  },
  {
   "cell_type": "code",
   "execution_count": null,
   "id": "6869f85a",
   "metadata": {},
   "outputs": [],
   "source": []
  },
  {
   "cell_type": "code",
   "execution_count": null,
   "id": "aeccb85a",
   "metadata": {},
   "outputs": [],
   "source": []
  },
  {
   "cell_type": "code",
   "execution_count": 72,
   "id": "62390a83",
   "metadata": {},
   "outputs": [],
   "source": [
    "N=2000\n",
    "M = np.array([[transition_prob_relevant_class(i,j,N) for j in range(0,N-1)] for i in range(0, N-1)])\n",
    "e_values, e_vectors = np.linalg.eig(np.transpose(M))\n",
    "idx = (np.abs(e_values - 1)).argmin()"
   ]
  },
  {
   "cell_type": "code",
   "execution_count": 73,
   "id": "43e86976",
   "metadata": {},
   "outputs": [
    {
     "data": {
      "text/plain": [
       "[<matplotlib.lines.Line2D at 0x29cdf19a1c0>]"
      ]
     },
     "execution_count": 73,
     "metadata": {},
     "output_type": "execute_result"
    },
    {
     "data": {
      "image/png": "[encoded data removed]",
      "text/plain": [
       "<Figure size 432x288 with 1 Axes>"
      ]
     },
     "metadata": {
      "needs_background": "light"
     },
     "output_type": "display_data"
    }
   ],
   "source": [
    "a = np.transpose(e_vectors)[idx]\n",
    "a = np.real_if_close(a, tol=100)\n",
    "a = a/sum(a)\n",
    "plt.plot(np.arange(N-1)/np.sqrt(N), a)\n",
    "plt.plot([1 - 1/np.sqrt(N), 1 - 1/np.sqrt(N)], [0, 0.09], color=\"r\", linewidth=0.5)"
   ]
  },
  {
   "cell_type": "code",
   "execution_count": 74,
   "id": "5340579c",
   "metadata": {},
   "outputs": [
    {
     "name": "stdout",
     "output_type": "stream",
     "text": [
      "scaled_equilibrium_point = 0.9776393202250021\n",
      "expected_value = 0.9727409045184665\n",
      "variance = 0.010699045456308953\n"
     ]
    }
   ],
   "source": [
    "expected_value = np.dot(a, np.arange(N-1)/np.sqrt(N))\n",
    "variance = np.dot(a, np.square((np.arange(N-1)/np.sqrt(N)))) - expected_value**2\n",
    "print(\"scaled_equilibrium_point = \" + str((np.sqrt(N)-1)/np.sqrt(N)))\n",
    "print(\"expected_value = \" + str(expected_value), sep=\"\\n\")\n",
    "print(\"variance = \" + str(variance))"
   ]
  },
  {
   "cell_type": "code",
   "execution_count": null,
   "id": "5f0308af",
   "metadata": {},
   "outputs": [],
   "source": []
  },
  {
   "cell_type": "code",
   "execution_count": null,
   "id": "69cf52b1",
   "metadata": {},
   "outputs": [],
   "source": []
  },
  {
   "cell_type": "code",
   "execution_count": 2,
   "id": "1ae96992",
   "metadata": {},
   "outputs": [],
   "source": [
    "def calculated_solution(N):\n",
    "    solution = np.ones(N-1)\n",
    "    for i in range(1, N-1):\n",
    "        s = 1\n",
    "        for j in range(1, i+1):\n",
    "            s *= ((N-j)*(N-j-1))/((N-1)*j*j - j)\n",
    "        solution[i] = s\n",
    "    solution = solution/sum(solution)\n",
    "    return solution"
   ]
  },
  {
   "cell_type": "code",
   "execution_count": 5,
   "id": "1edcf497",
   "metadata": {},
   "outputs": [
    {
     "name": "stdout",
     "output_type": "stream",
     "text": [
      "expected_value = 0.6405995594056909\n",
      "variance = 0.08448146932477035\n",
      "expected_value = 0.8792382397584273\n",
      "variance = 0.041092469794816844\n",
      "expected_value = 0.9609246960773231\n",
      "variance = 0.014849514478516013\n",
      "expected_value = 0.9875463668078135\n",
      "variance = 0.00490124606853104\n",
      "expected_value = 0.9960518241943133\n",
      "variance = 0.0015711786551413365\n"
     ]
    }
   ],
   "source": [
    "for N in [10,100,1000,10000,100000]:\n",
    "    b = calculated_solution(N)\n",
    "    expected_value = np.dot(b, np.arange(N-1)/np.sqrt(N))\n",
    "    variance = np.dot(b, np.square((np.arange(N-1)/np.sqrt(N)))) - expected_value**2\n",
    "    print(\"expected_value = \" + str(expected_value), sep=\"\\n\")\n",
    "    print(\"variance = \" + str(variance))"
   ]
  },
  {
   "cell_type": "code",
   "execution_count": 6,
   "id": "cc89bf6a",
   "metadata": {},
   "outputs": [],
   "source": [
    "b = calculated_solution(100)"
   ]
  },
  {
   "cell_type": "code",
   "execution_count": 18,
   "id": "7d96a6cc",
   "metadata": {},
   "outputs": [
    {
     "data": {
      "text/plain": [
       "<BarContainer object of 20 artists>"
      ]
     },
     "execution_count": 18,
     "metadata": {},
     "output_type": "execute_result"
    },
    {
     "data": {
      "image/png": "[encoded data removed]",
      "text/plain": [
       "<Figure size 432x288 with 1 Axes>"
      ]
     },
     "metadata": {
      "needs_background": "light"
     },
     "output_type": "display_data"
    }
   ],
   "source": [
    "plt.bar(np.arange(20), b[:20], width=0.8, linewidth=0.3, edgecolor=\"black\", label=\"Gewichte\")"
   ]
  },
  {
   "cell_type": "code",
   "execution_count": 29,
   "id": "11047f64",
   "metadata": {},
   "outputs": [
    {
     "data": {
      "image/png": "[encoded data removed]",
      "text/plain": [
       "<Figure size 432x288 with 1 Axes>"
      ]
     },
     "metadata": {},
     "output_type": "display_data"
    }
   ],
   "source": [
    "x = np.arange(20)\n",
    "y = b[:20]\n",
    "my_xticks = [i for i in range(20)]\n",
    "\n",
    "\n",
    "fig, ax = plt.subplots(facecolor='white')                                    # create figure and axes objects\n",
    "plt.bar(x, y, width=0.8, linewidth=0.3, edgecolor=\"black\", label=\"Gewichte\") # make plot\n",
    "ax.set_xticks(x)                                                             # set x tick positions\n",
    "ax.set_xticklabels(my_xticks)                                                # set the corresponding x tick labels\n",
    "ax.grid(axis='y')"
   ]
  },
  {
   "cell_type": "code",
   "execution_count": 81,
   "id": "a879f297",
   "metadata": {},
   "outputs": [
    {
     "data": {
      "text/plain": [
       "0.00448865127766962"
      ]
     },
     "execution_count": 81,
     "metadata": {},
     "output_type": "execute_result"
    }
   ],
   "source": [
    "N=100\n",
    "b = calculated_solution(N)\n",
    "M = np.array([[transition_prob_relevant_class(i,j,N) for j in range(0,N-1)] for i in range(0, N-1)])\n",
    "e_values, e_vectors = np.linalg.eig(np.transpose(M))\n",
    "idx = (np.abs(e_values - 1)).argmin()\n",
    "a = np.transpose(e_vectors)[idx]\n",
    "a = np.real_if_close(a, tol=100)\n",
    "a = a/sum(a)\n",
    "max(abs(a - b))"
   ]
  },
  {
   "cell_type": "code",
   "execution_count": 86,
   "id": "e73a14bd",
   "metadata": {},
   "outputs": [
    {
     "data": {
      "text/plain": [
       "[<matplotlib.lines.Line2D at 0x29cdf42ef40>]"
      ]
     },
     "execution_count": 86,
     "metadata": {},
     "output_type": "execute_result"
    },
    {
     "data": {
      "image/png": "[encoded data removed]",
      "text/plain": [
       "<Figure size 432x288 with 1 Axes>"
      ]
     },
     "metadata": {
      "needs_background": "light"
     },
     "output_type": "display_data"
    }
   ],
   "source": [
    "plt.plot(np.arange(N-1)[:20], b[:20], linewidth=0.8)\n",
    "plt.plot(np.arange(N-1)[:20], a[:20], linewidth=0.8)"
   ]
  },
  {
   "cell_type": "code",
   "execution_count": null,
   "id": "acccaf05",
   "metadata": {},
   "outputs": [],
   "source": []
  },
  {
   "cell_type": "code",
   "execution_count": 87,
   "id": "f50f373a",
   "metadata": {},
   "outputs": [
    {
     "data": {
      "text/plain": [
       "0.0004747550974893988"
      ]
     },
     "execution_count": 87,
     "metadata": {},
     "output_type": "execute_result"
    }
   ],
   "source": [
    "N=1000\n",
    "b = calculated_solution(N)\n",
    "M = np.array([[transition_prob_relevant_class(i,j,N) for j in range(0,N-1)] for i in range(0, N-1)])\n",
    "e_values, e_vectors = np.linalg.eig(np.transpose(M))\n",
    "idx = (np.abs(e_values - 1)).argmin()\n",
    "a = np.transpose(e_vectors)[idx]\n",
    "a = np.real_if_close(a, tol=100)\n",
    "a = a/sum(a)\n",
    "max(abs(a - b))"
   ]
  },
  {
   "cell_type": "code",
   "execution_count": 90,
   "id": "b90b0ef9",
   "metadata": {},
   "outputs": [
    {
     "data": {
      "text/plain": [
       "[<matplotlib.lines.Line2D at 0x29cdf57a100>]"
      ]
     },
     "execution_count": 90,
     "metadata": {},
     "output_type": "execute_result"
    },
    {
     "data": {
      "image/png": "[encoded data removed]",
      "text/plain": [
       "<Figure size 432x288 with 1 Axes>"
      ]
     },
     "metadata": {
      "needs_background": "light"
     },
     "output_type": "display_data"
    }
   ],
   "source": [
    "plt.plot(np.arange(N-1)[15:45], b[15:45], linewidth=0.8)\n",
    "plt.plot(np.arange(N-1)[15:45], a[15:45], linewidth=0.8)"
   ]
  }
 ],
 "metadata": {
  "kernelspec": {
   "display_name": "Python 3 (ipykernel)",
   "language": "python",
   "name": "python3"
  },
  "language_info": {
   "codemirror_mode": {
    "name": "ipython",
    "version": 3
   },
   "file_extension": ".py",
   "mimetype": "text/x-python",
   "name": "python",
   "nbconvert_exporter": "python",
   "pygments_lexer": "ipython3",
   "version": "3.9.7"
  }
 },
 "nbformat": 4,
 "nbformat_minor": 5
}
